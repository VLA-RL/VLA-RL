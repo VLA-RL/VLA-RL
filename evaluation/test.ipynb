{
 "cells": [
  {
   "cell_type": "code",
   "execution_count": 190,
   "metadata": {},
   "outputs": [],
   "source": [
    "import sys\n",
    "import numpy as np\n",
    "from rlbench.action_modes.action_mode import MoveArmThenGripper\n",
    "from rlbench.action_modes.arm_action_modes import ArmActionMode, JointVelocity, JointPosition, EndEffectorPoseViaPlanning, EndEffectorPoseViaIK\n",
    "from rlbench.action_modes.gripper_action_modes import Discrete\n",
    "from rlbench.environment import Environment\n",
    "from rlbench.observation_config import ObservationConfig, CameraConfig\n",
    "from rlbench.tasks import ReachTarget, PickAndLift, StackBlocks, PushButton, StackBlocks, PickUpCup, PlaceHangerOnRack\n",
    "import matplotlib.pyplot as plt\n",
    "from transformers import AutoModelForVision2Seq, AutoProcessor\n",
    "from PIL import Image\n",
    "import torch\n",
    "from transformers import BitsAndBytesConfig\n",
    "from pyquaternion import Quaternion\n",
    "from rlbench.backend.robot import Robot\n",
    "from scipy.spatial.transform import Rotation\n",
    "from rlbench.backend.scene import Scene\n",
    "from pathlib import Path\n",
    "import os, json"
   ]
  },
  {
   "cell_type": "code",
   "execution_count": 2,
   "metadata": {},
   "outputs": [],
   "source": [
    "model_path = \"/home/lawrence/VLA-RL/openvla/runs/openvla-7b+test1+b2+lr-2e-05+lora-r4+dropout-0.0+q-4bit\"#\"/home/lawrence/openvla_7b\""
   ]
  },
  {
   "cell_type": "code",
   "execution_count": 3,
   "metadata": {},
   "outputs": [],
   "source": [
    "class Agent(object):\n",
    "    def __init__(self):\n",
    "        config = BitsAndBytesConfig(\n",
    "            load_in_8bit=True,\n",
    "            llm_int8_skip_modules = ['projector'],\n",
    "            llm_int8_enable_fp32_cpu_offload=True,\n",
    "            # bnb_4bit_quant_type=\"nf4\",\n",
    "            # bnb_4bit_use_double_quant=True,\n",
    "            # llm_int8_enable_fp32_cpu_offload=True,\n",
    "            # bnb_4bit_compute_dtype=torch.bfloat16\n",
    "        )\n",
    "        quantization_config = BitsAndBytesConfig(\n",
    "            load_in_4bit=True, bnb_4bit_compute_dtype=torch.bfloat16, bnb_4bit_quant_type=\"nf4\", llm_int8_skip_modules = ['projector'],\n",
    "        )\n",
    "        self.openvla_path = \"/home/lawrence/VLA-RL/openvla/runs/openvla-7b+test1+b2+lr-2e-05+lora-r4+dropout-0.0+q-4bit\"#\"/home/lawrence/openvla_7b\"\n",
    "        self.processor = AutoProcessor.from_pretrained(self.openvla_path, trust_remote_code=True)\n",
    "        self.vla = AutoModelForVision2Seq.from_pretrained(\n",
    "                        self.openvla_path, \n",
    "                        attn_implementation=\"sdpa\",  # [Optional] Requires `flash_attn`\n",
    "                        torch_dtype=torch.bfloat16, \n",
    "                        quantization_config=quantization_config,\n",
    "                        low_cpu_mem_usage=True, \n",
    "                        trust_remote_code=True,\n",
    "                        device_map=\"auto\"\n",
    "                    )\n",
    "        if os.path.isdir(self.openvla_path):\n",
    "            with open(Path(self.openvla_path) / \"dataset_statistics.json\", \"r\") as f:\n",
    "                self.vla.norm_stats = json.load(f)\n",
    "    def act(self, obs, instr, unnorm_key=\"rlbench\", do_sample=True):\n",
    "        prompt = \"In: What action should the robot take to {<INSTRUCTION>}?\\nOut:\"\n",
    "        prompt = prompt.replace(\"<INSTRUCTION>\", instr.lower())\n",
    "        image = Image.fromarray(obs)\n",
    "        inputs = self.processor(prompt, image).to(self.vla.device, dtype=torch.bfloat16)\n",
    "        action = self.vla.predict_action(**inputs, unnorm_key=unnorm_key, do_sample=do_sample)    \n",
    "        return action\n",
    "\n",
    "# stanford_hydra_dataset_converted_externally_to_rlds 1\n",
    "# berkeley_autolab_ur5 \n"
   ]
  },
  {
   "cell_type": "code",
   "execution_count": 4,
   "metadata": {},
   "outputs": [
    {
     "name": "stderr",
     "output_type": "stream",
     "text": [
      "The model weights are not tied. Please use the `tie_weights` method before using the `infer_auto_device` function.\n",
      "Loading checkpoint shards: 100%|██████████| 4/4 [00:38<00:00,  9.58s/it]\n"
     ]
    }
   ],
   "source": [
    "agent = Agent()"
   ]
  },
  {
   "cell_type": "code",
   "execution_count": 7,
   "metadata": {},
   "outputs": [
    {
     "data": {
      "text/plain": [
       "{'rlbench': {'action': {'q01': [0.014743955805897713,\n",
       "    -0.259696900844574,\n",
       "    0.8708521127700806,\n",
       "    -3.141531217929336,\n",
       "    -0.04291734929919966,\n",
       "    -3.125942467823675,\n",
       "    0.0],\n",
       "   'q99': [0.4629177749156952,\n",
       "    0.33081406354904175,\n",
       "    1.1301019191741943,\n",
       "    3.141589175004991,\n",
       "    0.002644044521300959,\n",
       "    3.0656777837205063,\n",
       "    1.0]}}}"
      ]
     },
     "execution_count": 7,
     "metadata": {},
     "output_type": "execute_result"
    }
   ],
   "source": [
    "agent.vla.norm_stats"
   ]
  },
  {
   "cell_type": "code",
   "execution_count": 3,
   "metadata": {},
   "outputs": [],
   "source": [
    "camera = CameraConfig(image_size=(224, 224), depth=False, point_cloud=False, mask=False)\n",
    "obs_config = ObservationConfig(left_shoulder_camera=camera, right_shoulder_camera=camera, front_camera=camera, overhead_camera=camera)\n",
    "\n",
    "env = Environment(\n",
    "    action_mode=MoveArmThenGripper(\n",
    "        arm_action_mode=EndEffectorPoseViaPlanning(absolute_mode=True, collision_checking=False), gripper_action_mode=Discrete()),\n",
    "    obs_config=obs_config,\n",
    "    headless=False)\n",
    "env.launch()\n",
    "\n"
   ]
  },
  {
   "cell_type": "code",
   "execution_count": 191,
   "metadata": {},
   "outputs": [],
   "source": [
    "task = env.get_task(PlaceHangerOnRack)"
   ]
  },
  {
   "cell_type": "code",
   "execution_count": 23,
   "metadata": {},
   "outputs": [
    {
     "data": {
      "text/plain": [
       "array([-0., -0., -0.,  0.,  0.,  0.,  1.,  1.])"
      ]
     },
     "execution_count": 23,
     "metadata": {},
     "output_type": "execute_result"
    }
   ],
   "source": [
    "trans = np.ones(3)*(-0.)\n",
    "rota = np.ones(3)*np.pi*0\n",
    "quat = Rotation.from_euler('xyz', rota).as_quat()\n",
    "action = np.concatenate([trans, quat, np.array([1])])\n",
    "action"
   ]
  },
  {
   "cell_type": "code",
   "execution_count": 195,
   "metadata": {},
   "outputs": [],
   "source": [
    "descriptions, obs = task.reset()"
   ]
  },
  {
   "cell_type": "code",
   "execution_count": 200,
   "metadata": {},
   "outputs": [
    {
     "data": {
      "text/plain": [
       "array([ 2.78505206e-01, -8.16359185e-03,  1.47192001e+00, -8.24363906e-06,\n",
       "        9.92671311e-01, -2.51155626e-07,  1.20845728e-01])"
      ]
     },
     "execution_count": 200,
     "metadata": {},
     "output_type": "execute_result"
    }
   ],
   "source": [
    "obs.gripper_pose"
   ]
  },
  {
   "cell_type": "code",
   "execution_count": 211,
   "metadata": {},
   "outputs": [],
   "source": [
    "action1 = np.array([ 2.78505206e-01, 0.3,  1.47192001e+00, -8.24363906e-06,\n",
    "        9.92671311e-01, -2.51155626e-07,  1.20845728e-01, 1])"
   ]
  },
  {
   "cell_type": "code",
   "execution_count": 212,
   "metadata": {},
   "outputs": [
    {
     "ename": "InvalidActionError",
     "evalue": "A path could not be found. Most likely due to the target being inaccessible or a collison was detected.",
     "output_type": "error",
     "traceback": [
      "\u001b[0;31m---------------------------------------------------------------------------\u001b[0m",
      "\u001b[0;31mConfigurationError\u001b[0m                        Traceback (most recent call last)",
      "File \u001b[0;32m~/anaconda3/envs/VLA-RL/lib/python3.11/site-packages/pyrep/robots/arms/arm.py:388\u001b[0m, in \u001b[0;36mArm.get_nonlinear_path\u001b[0;34m(self, position, euler, quaternion, ignore_collisions, trials, max_configs, distance_threshold, max_time_ms, trials_per_goal, algorithm, relative_to)\u001b[0m\n\u001b[1;32m    387\u001b[0m \u001b[38;5;28;01mtry\u001b[39;00m:\n\u001b[0;32m--> 388\u001b[0m     configs \u001b[38;5;241m=\u001b[39m \u001b[38;5;28;43mself\u001b[39;49m\u001b[38;5;241;43m.\u001b[39;49m\u001b[43msolve_ik_via_sampling\u001b[49m\u001b[43m(\u001b[49m\n\u001b[1;32m    389\u001b[0m \u001b[43m        \u001b[49m\u001b[43mposition\u001b[49m\u001b[43m,\u001b[49m\u001b[43m \u001b[49m\u001b[43meuler\u001b[49m\u001b[43m,\u001b[49m\u001b[43m \u001b[49m\u001b[43mquaternion\u001b[49m\u001b[43m,\u001b[49m\u001b[43m \u001b[49m\u001b[43mignore_collisions\u001b[49m\u001b[43m,\u001b[49m\u001b[43m \u001b[49m\u001b[43mtrials\u001b[49m\u001b[43m,\u001b[49m\n\u001b[1;32m    390\u001b[0m \u001b[43m        \u001b[49m\u001b[43mmax_configs\u001b[49m\u001b[43m,\u001b[49m\u001b[43m \u001b[49m\u001b[43mdistance_threshold\u001b[49m\u001b[43m,\u001b[49m\u001b[43m \u001b[49m\u001b[43mmax_time_ms\u001b[49m\u001b[43m,\u001b[49m\u001b[43m \u001b[49m\u001b[43mrelative_to\u001b[49m\u001b[43m)\u001b[49m\n\u001b[1;32m    391\u001b[0m \u001b[38;5;28;01mexcept\u001b[39;00m ConfigurationError \u001b[38;5;28;01mas\u001b[39;00m e:\n",
      "File \u001b[0;32m~/anaconda3/envs/VLA-RL/lib/python3.11/site-packages/pyrep/robots/arms/arm.py:156\u001b[0m, in \u001b[0;36mArm.solve_ik_via_sampling\u001b[0;34m(self, position, euler, quaternion, ignore_collisions, trials, max_configs, distance_threshold, max_time_ms, relative_to)\u001b[0m\n\u001b[1;32m    155\u001b[0m \u001b[38;5;28;01mif\u001b[39;00m \u001b[38;5;28mlen\u001b[39m(valid_joint_positions) \u001b[38;5;241m==\u001b[39m \u001b[38;5;241m0\u001b[39m:\n\u001b[0;32m--> 156\u001b[0m     \u001b[38;5;28;01mraise\u001b[39;00m ConfigurationError(\n\u001b[1;32m    157\u001b[0m         \u001b[38;5;124m'\u001b[39m\u001b[38;5;124mCould not find a valid joint configuration for desired \u001b[39m\u001b[38;5;124m'\u001b[39m\n\u001b[1;32m    158\u001b[0m         \u001b[38;5;124m'\u001b[39m\u001b[38;5;124mend effector pose.\u001b[39m\u001b[38;5;124m'\u001b[39m)\n\u001b[1;32m    160\u001b[0m \u001b[38;5;28;01mif\u001b[39;00m \u001b[38;5;28mlen\u001b[39m(valid_joint_positions) \u001b[38;5;241m>\u001b[39m \u001b[38;5;241m1\u001b[39m:\n",
      "\u001b[0;31mConfigurationError\u001b[0m: Could not find a valid joint configuration for desired end effector pose.",
      "\nThe above exception was the direct cause of the following exception:\n",
      "\u001b[0;31mConfigurationPathError\u001b[0m                    Traceback (most recent call last)",
      "File \u001b[0;32m~/anaconda3/envs/VLA-RL/lib/python3.11/site-packages/rlbench/action_modes/arm_action_modes.py:256\u001b[0m, in \u001b[0;36mEndEffectorPoseViaPlanning.action\u001b[0;34m(self, scene, action)\u001b[0m\n\u001b[1;32m    255\u001b[0m \u001b[38;5;28;01mtry\u001b[39;00m:\n\u001b[0;32m--> 256\u001b[0m     path \u001b[38;5;241m=\u001b[39m \u001b[43mscene\u001b[49m\u001b[38;5;241;43m.\u001b[39;49m\u001b[43mrobot\u001b[49m\u001b[38;5;241;43m.\u001b[39;49m\u001b[43marm\u001b[49m\u001b[38;5;241;43m.\u001b[39;49m\u001b[43mget_path\u001b[49m\u001b[43m(\u001b[49m\n\u001b[1;32m    257\u001b[0m \u001b[43m        \u001b[49m\u001b[43maction\u001b[49m\u001b[43m[\u001b[49m\u001b[43m:\u001b[49m\u001b[38;5;241;43m3\u001b[39;49m\u001b[43m]\u001b[49m\u001b[43m,\u001b[49m\n\u001b[1;32m    258\u001b[0m \u001b[43m        \u001b[49m\u001b[43mquaternion\u001b[49m\u001b[38;5;241;43m=\u001b[39;49m\u001b[43maction\u001b[49m\u001b[43m[\u001b[49m\u001b[38;5;241;43m3\u001b[39;49m\u001b[43m:\u001b[49m\u001b[43m]\u001b[49m\u001b[43m,\u001b[49m\n\u001b[1;32m    259\u001b[0m \u001b[43m        \u001b[49m\u001b[43mignore_collisions\u001b[49m\u001b[38;5;241;43m=\u001b[39;49m\u001b[38;5;129;43;01mnot\u001b[39;49;00m\u001b[43m \u001b[49m\u001b[38;5;28;43mself\u001b[39;49m\u001b[38;5;241;43m.\u001b[39;49m\u001b[43m_collision_checking\u001b[49m\u001b[43m,\u001b[49m\n\u001b[1;32m    260\u001b[0m \u001b[43m        \u001b[49m\u001b[43mrelative_to\u001b[49m\u001b[38;5;241;43m=\u001b[39;49m\u001b[43mrelative_to\u001b[49m\u001b[43m,\u001b[49m\n\u001b[1;32m    261\u001b[0m \u001b[43m        \u001b[49m\u001b[43mtrials\u001b[49m\u001b[38;5;241;43m=\u001b[39;49m\u001b[38;5;241;43m100\u001b[39;49m\u001b[43m,\u001b[49m\n\u001b[1;32m    262\u001b[0m \u001b[43m        \u001b[49m\u001b[43mmax_configs\u001b[49m\u001b[38;5;241;43m=\u001b[39;49m\u001b[38;5;241;43m10\u001b[39;49m\u001b[43m,\u001b[49m\n\u001b[1;32m    263\u001b[0m \u001b[43m        \u001b[49m\u001b[43mmax_time_ms\u001b[49m\u001b[38;5;241;43m=\u001b[39;49m\u001b[38;5;241;43m10\u001b[39;49m\u001b[43m,\u001b[49m\n\u001b[1;32m    264\u001b[0m \u001b[43m        \u001b[49m\u001b[43mtrials_per_goal\u001b[49m\u001b[38;5;241;43m=\u001b[39;49m\u001b[38;5;241;43m5\u001b[39;49m\u001b[43m,\u001b[49m\n\u001b[1;32m    265\u001b[0m \u001b[43m        \u001b[49m\u001b[43malgorithm\u001b[49m\u001b[38;5;241;43m=\u001b[39;49m\u001b[43mAlgos\u001b[49m\u001b[38;5;241;43m.\u001b[39;49m\u001b[43mRRTConnect\u001b[49m\n\u001b[1;32m    266\u001b[0m \u001b[43m    \u001b[49m\u001b[43m)\u001b[49m\n\u001b[1;32m    267\u001b[0m     [s\u001b[38;5;241m.\u001b[39mset_collidable(\u001b[38;5;28;01mTrue\u001b[39;00m) \u001b[38;5;28;01mfor\u001b[39;00m s \u001b[38;5;129;01min\u001b[39;00m colliding_shapes]\n",
      "File \u001b[0;32m~/anaconda3/envs/VLA-RL/lib/python3.11/site-packages/pyrep/robots/arms/arm.py:453\u001b[0m, in \u001b[0;36mArm.get_path\u001b[0;34m(self, position, euler, quaternion, ignore_collisions, trials, max_configs, distance_threshold, max_time_ms, trials_per_goal, algorithm, relative_to)\u001b[0m\n\u001b[1;32m    452\u001b[0m \u001b[38;5;66;03m# This time if an exception is thrown, we dont want to catch it.\u001b[39;00m\n\u001b[0;32m--> 453\u001b[0m p \u001b[38;5;241m=\u001b[39m \u001b[38;5;28;43mself\u001b[39;49m\u001b[38;5;241;43m.\u001b[39;49m\u001b[43mget_nonlinear_path\u001b[49m\u001b[43m(\u001b[49m\n\u001b[1;32m    454\u001b[0m \u001b[43m    \u001b[49m\u001b[43mposition\u001b[49m\u001b[43m,\u001b[49m\u001b[43m \u001b[49m\u001b[43meuler\u001b[49m\u001b[43m,\u001b[49m\u001b[43m \u001b[49m\u001b[43mquaternion\u001b[49m\u001b[43m,\u001b[49m\u001b[43m \u001b[49m\u001b[43mignore_collisions\u001b[49m\u001b[43m,\u001b[49m\u001b[43m \u001b[49m\u001b[43mtrials\u001b[49m\u001b[43m,\u001b[49m\u001b[43m \u001b[49m\u001b[43mmax_configs\u001b[49m\u001b[43m,\u001b[49m\n\u001b[1;32m    455\u001b[0m \u001b[43m    \u001b[49m\u001b[43mdistance_threshold\u001b[49m\u001b[43m,\u001b[49m\u001b[43m \u001b[49m\u001b[43mmax_time_ms\u001b[49m\u001b[43m,\u001b[49m\u001b[43m \u001b[49m\u001b[43mtrials_per_goal\u001b[49m\u001b[43m,\u001b[49m\u001b[43m \u001b[49m\u001b[43malgorithm\u001b[49m\u001b[43m,\u001b[49m\n\u001b[1;32m    456\u001b[0m \u001b[43m    \u001b[49m\u001b[43mrelative_to\u001b[49m\u001b[43m)\u001b[49m\n\u001b[1;32m    457\u001b[0m \u001b[38;5;28;01mreturn\u001b[39;00m p\n",
      "File \u001b[0;32m~/anaconda3/envs/VLA-RL/lib/python3.11/site-packages/pyrep/robots/arms/arm.py:392\u001b[0m, in \u001b[0;36mArm.get_nonlinear_path\u001b[0;34m(self, position, euler, quaternion, ignore_collisions, trials, max_configs, distance_threshold, max_time_ms, trials_per_goal, algorithm, relative_to)\u001b[0m\n\u001b[1;32m    391\u001b[0m \u001b[38;5;28;01mexcept\u001b[39;00m ConfigurationError \u001b[38;5;28;01mas\u001b[39;00m e:\n\u001b[0;32m--> 392\u001b[0m     \u001b[38;5;28;01mraise\u001b[39;00m ConfigurationPathError(\u001b[38;5;124m'\u001b[39m\u001b[38;5;124mCould not create path.\u001b[39m\u001b[38;5;124m'\u001b[39m) \u001b[38;5;28;01mfrom\u001b[39;00m \u001b[38;5;21;01me\u001b[39;00m\n\u001b[1;32m    394\u001b[0m _, ret_floats, _, _ \u001b[38;5;241m=\u001b[39m utils\u001b[38;5;241m.\u001b[39mscript_call(\n\u001b[1;32m    395\u001b[0m     \u001b[38;5;124m'\u001b[39m\u001b[38;5;124mgetNonlinearPath@PyRep\u001b[39m\u001b[38;5;124m'\u001b[39m, PYREP_SCRIPT_TYPE,\n\u001b[1;32m    396\u001b[0m     ints\u001b[38;5;241m=\u001b[39m[\u001b[38;5;28mself\u001b[39m\u001b[38;5;241m.\u001b[39m_collision_collection, \u001b[38;5;28mint\u001b[39m(ignore_collisions),\n\u001b[1;32m    397\u001b[0m           trials_per_goal] \u001b[38;5;241m+\u001b[39m handles,\n\u001b[1;32m    398\u001b[0m     floats\u001b[38;5;241m=\u001b[39mconfigs\u001b[38;5;241m.\u001b[39mflatten()\u001b[38;5;241m.\u001b[39mtolist(),\n\u001b[1;32m    399\u001b[0m     strings\u001b[38;5;241m=\u001b[39m[algorithm\u001b[38;5;241m.\u001b[39mvalue])\n",
      "\u001b[0;31mConfigurationPathError\u001b[0m: Could not create path.",
      "\nThe above exception was the direct cause of the following exception:\n",
      "\u001b[0;31mInvalidActionError\u001b[0m                        Traceback (most recent call last)",
      "Cell \u001b[0;32mIn[212], line 1\u001b[0m\n\u001b[0;32m----> 1\u001b[0m \u001b[43mtask\u001b[49m\u001b[38;5;241;43m.\u001b[39;49m\u001b[43mstep\u001b[49m\u001b[43m(\u001b[49m\u001b[43maction1\u001b[49m\u001b[43m)\u001b[49m\n",
      "File \u001b[0;32m~/anaconda3/envs/VLA-RL/lib/python3.11/site-packages/rlbench/task_environment.py:100\u001b[0m, in \u001b[0;36mTaskEnvironment.step\u001b[0;34m(self, action)\u001b[0m\n\u001b[1;32m     97\u001b[0m \u001b[38;5;28;01mif\u001b[39;00m \u001b[38;5;129;01mnot\u001b[39;00m \u001b[38;5;28mself\u001b[39m\u001b[38;5;241m.\u001b[39m_reset_called:\n\u001b[1;32m     98\u001b[0m     \u001b[38;5;28;01mraise\u001b[39;00m \u001b[38;5;167;01mRuntimeError\u001b[39;00m(\n\u001b[1;32m     99\u001b[0m         \u001b[38;5;124m\"\u001b[39m\u001b[38;5;124mCall \u001b[39m\u001b[38;5;124m'\u001b[39m\u001b[38;5;124mreset\u001b[39m\u001b[38;5;124m'\u001b[39m\u001b[38;5;124m before calling \u001b[39m\u001b[38;5;124m'\u001b[39m\u001b[38;5;124mstep\u001b[39m\u001b[38;5;124m'\u001b[39m\u001b[38;5;124m on a task.\u001b[39m\u001b[38;5;124m\"\u001b[39m)\n\u001b[0;32m--> 100\u001b[0m \u001b[38;5;28;43mself\u001b[39;49m\u001b[38;5;241;43m.\u001b[39;49m\u001b[43m_action_mode\u001b[49m\u001b[38;5;241;43m.\u001b[39;49m\u001b[43maction\u001b[49m\u001b[43m(\u001b[49m\u001b[38;5;28;43mself\u001b[39;49m\u001b[38;5;241;43m.\u001b[39;49m\u001b[43m_scene\u001b[49m\u001b[43m,\u001b[49m\u001b[43m \u001b[49m\u001b[43maction\u001b[49m\u001b[43m)\u001b[49m\n\u001b[1;32m    101\u001b[0m success, terminate \u001b[38;5;241m=\u001b[39m \u001b[38;5;28mself\u001b[39m\u001b[38;5;241m.\u001b[39m_task\u001b[38;5;241m.\u001b[39msuccess()\n\u001b[1;32m    102\u001b[0m reward \u001b[38;5;241m=\u001b[39m \u001b[38;5;28mfloat\u001b[39m(success)\n",
      "File \u001b[0;32m~/anaconda3/envs/VLA-RL/lib/python3.11/site-packages/rlbench/action_modes/action_mode.py:41\u001b[0m, in \u001b[0;36mMoveArmThenGripper.action\u001b[0;34m(self, scene, action)\u001b[0m\n\u001b[1;32m     39\u001b[0m arm_action \u001b[38;5;241m=\u001b[39m np\u001b[38;5;241m.\u001b[39marray(action[:arm_act_size])\n\u001b[1;32m     40\u001b[0m ee_action \u001b[38;5;241m=\u001b[39m np\u001b[38;5;241m.\u001b[39marray(action[arm_act_size:])\n\u001b[0;32m---> 41\u001b[0m \u001b[38;5;28;43mself\u001b[39;49m\u001b[38;5;241;43m.\u001b[39;49m\u001b[43marm_action_mode\u001b[49m\u001b[38;5;241;43m.\u001b[39;49m\u001b[43maction\u001b[49m\u001b[43m(\u001b[49m\u001b[43mscene\u001b[49m\u001b[43m,\u001b[49m\u001b[43m \u001b[49m\u001b[43marm_action\u001b[49m\u001b[43m)\u001b[49m\n\u001b[1;32m     42\u001b[0m \u001b[38;5;28mself\u001b[39m\u001b[38;5;241m.\u001b[39mgripper_action_mode\u001b[38;5;241m.\u001b[39maction(scene, ee_action)\n",
      "File \u001b[0;32m~/anaconda3/envs/VLA-RL/lib/python3.11/site-packages/rlbench/action_modes/arm_action_modes.py:270\u001b[0m, in \u001b[0;36mEndEffectorPoseViaPlanning.action\u001b[0;34m(self, scene, action)\u001b[0m\n\u001b[1;32m    268\u001b[0m \u001b[38;5;28;01mexcept\u001b[39;00m ConfigurationPathError \u001b[38;5;28;01mas\u001b[39;00m e:\n\u001b[1;32m    269\u001b[0m     [s\u001b[38;5;241m.\u001b[39mset_collidable(\u001b[38;5;28;01mTrue\u001b[39;00m) \u001b[38;5;28;01mfor\u001b[39;00m s \u001b[38;5;129;01min\u001b[39;00m colliding_shapes]\n\u001b[0;32m--> 270\u001b[0m     \u001b[38;5;28;01mraise\u001b[39;00m InvalidActionError(\n\u001b[1;32m    271\u001b[0m         \u001b[38;5;124m'\u001b[39m\u001b[38;5;124mA path could not be found. Most likely due to the target \u001b[39m\u001b[38;5;124m'\u001b[39m\n\u001b[1;32m    272\u001b[0m         \u001b[38;5;124m'\u001b[39m\u001b[38;5;124mbeing inaccessible or a collison was detected.\u001b[39m\u001b[38;5;124m'\u001b[39m) \u001b[38;5;28;01mfrom\u001b[39;00m \u001b[38;5;21;01me\u001b[39;00m\n\u001b[1;32m    273\u001b[0m done \u001b[38;5;241m=\u001b[39m \u001b[38;5;28;01mFalse\u001b[39;00m\n\u001b[1;32m    274\u001b[0m \u001b[38;5;28;01mwhile\u001b[39;00m \u001b[38;5;129;01mnot\u001b[39;00m done:\n",
      "\u001b[0;31mInvalidActionError\u001b[0m: A path could not be found. Most likely due to the target being inaccessible or a collison was detected."
     ]
    }
   ],
   "source": [
    "task.step(action1)"
   ]
  },
  {
   "cell_type": "code",
   "execution_count": 18,
   "metadata": {},
   "outputs": [],
   "source": [
    "# instr = descriptions[1]\n",
    "# prompt = \"In: What action should the robot take to {<INSTRUCTION>}?\\nOut:\"\n",
    "# prompt = prompt.replace(\"<INSTRUCTION>\", instr.lower())\n",
    "# image = Image.fromarray(obs.front_rgb)\n",
    "# inputs = agent.processor(prompt, image).to(agent.vla.device, dtype=torch.bfloat16)\n",
    "# action = agent.vla.predict_action(**inputs, unnorm_key=\"Freiburg_Franka_Play\", do_sample=True)\n",
    "# action"
   ]
  },
  {
   "cell_type": "code",
   "execution_count": 8,
   "metadata": {},
   "outputs": [
    {
     "data": {
      "text/plain": [
       "dict_keys(['austin_buds_dataset_converted_externally_to_rlds', 'austin_sailor_dataset_converted_externally_to_rlds', 'austin_sirius_dataset_converted_externally_to_rlds', 'bc_z', 'berkeley_autolab_ur5', 'berkeley_cable_routing', 'berkeley_fanuc_manipulation', 'bridge_orig', 'cmu_stretch', 'dlr_edan_shared_control_converted_externally_to_rlds', 'dobbe', 'fmb_dataset', 'fractal20220817_data', 'furniture_bench_dataset_converted_externally_to_rlds', 'iamlab_cmu_pickup_insert_converted_externally_to_rlds', 'jaco_play', 'kuka', 'nyu_franka_play_dataset_converted_externally_to_rlds', 'roboturk', 'stanford_hydra_dataset_converted_externally_to_rlds', 'taco_play', 'toto', 'ucsd_kitchen_dataset_converted_externally_to_rlds', 'utaustin_mutex', 'viola'])"
      ]
     },
     "execution_count": 8,
     "metadata": {},
     "output_type": "execute_result"
    }
   ],
   "source": [
    "agent.vla.config.norm_stats.keys()"
   ]
  },
  {
   "cell_type": "code",
   "execution_count": 10,
   "metadata": {},
   "outputs": [
    {
     "name": "stdout",
     "output_type": "stream",
     "text": [
      "Reset Episode\n",
      "grasp the red cup and lift it\n",
      "[ 0.25816385  0.11197765  1.12959359  0.01382961 -0.99983103 -0.00601583\n",
      "  0.01050989  0.5       ]\n",
      "0.0\n",
      "[ 0.2282856   0.07029452  1.00047702 -0.04395693 -0.99897612  0.00580022\n",
      "  0.00899201  0.5       ]\n",
      "0.0\n",
      "[ 0.28979965  0.01934848  1.04216032  0.0023403  -0.6917024  -0.7219788\n",
      "  0.01699761  0.5       ]\n",
      "0.0\n",
      "[ 0.29682983 -0.010756    1.01369367  0.83535047 -0.5113054  -0.10533886\n",
      "  0.17222106  0.5       ]\n",
      "0.0\n",
      "[0.29331474 0.03555858 1.12959359 0.93103951 0.36472497 0.01170498\n",
      " 0.00203121 0.99803922]\n",
      "0.0\n",
      "[ 0.30386001  0.07029452  0.87136045 -0.04398412 -0.99900278  0.00598518\n",
      "  0.00479747  0.5       ]\n",
      "0.0\n",
      "[0.25289122 0.02629566 1.05537697 0.03623882 0.00740478 0.16610425\n",
      " 0.98541428 0.5       ]\n",
      "A path could not be found. Most likely due to the target being inaccessible or a collison was detected.\n",
      "[ 0.30561755 -0.02465038  1.12959359 -0.04394809 -0.9989639   0.00574116\n",
      "  0.01033066  0.5       ]\n",
      "0.0\n",
      "[ 0.30034492  0.07029452  1.12146026  0.01383861 -0.99984479 -0.00603578\n",
      "  0.00908074  0.5       ]\n",
      "0.0\n",
      "[ 0.25289122  0.10503046  1.11332693  0.01383186 -0.99983466 -0.00602082\n",
      "  0.0101526   0.5       ]\n",
      "0.0\n",
      "[0.30561755 0.06566306 1.11332693 0.93103687 0.36472158 0.01203766\n",
      " 0.00190084 0.68431373]\n",
      "0.0\n",
      "[ 0.26167894 -0.02465038  1.03707699  0.98603384  0.16620206  0.00963095\n",
      "  0.00462447  0.99803922]\n",
      "0.0\n",
      "[ 0.32143545 -0.03854476  1.11231027  0.01060638  0.14698885  0.98814966\n",
      "  0.04291883  0.5       ]\n",
      "0.0\n",
      "[0.26519403 0.12587202 1.11332693 0.56638887 0.0387071  0.07286769\n",
      " 0.81999738 0.51176471]\n",
      "0.0\n",
      "[ 2.81011931e-01  7.02945204e-02  1.12959359e+00 -3.08105922e-04\n",
      " -2.14101581e-02 -1.50618367e-02  9.99657267e-01  9.98039216e-01]\n",
      "A path could not be found. Most likely due to the target being inaccessible or a collison was detected.\n",
      "[0.25289122 0.12355629 1.12959359 0.32767066 0.22154275 0.53384893\n",
      " 0.74736609 0.5       ]\n",
      "0.0\n",
      "[ 2.91557197e-01  1.30503482e-01  1.12959359e+00  8.89884599e-03\n",
      " -3.77545889e-04  9.98991317e-01  4.40115533e-02  5.00000000e-01]\n",
      "A path could not be found. Most likely due to the target being inaccessible or a collison was detected.\n",
      "[ 0.29331474  0.03324285  1.11332693  0.00366125 -0.00811956  0.40955999\n",
      "  0.91223971  0.52745098]\n",
      "0.0\n",
      "[ 0.29858737  0.06797879  1.00657701  0.01130513 -0.01818471  0.52727653\n",
      "  0.84942391  0.5       ]\n",
      "A path could not be found. Most likely due to the target being inaccessible or a collison was detected.\n",
      "[0.26870912 0.05871587 1.12959359 0.27852892 0.11996622 0.4032114\n",
      " 0.86339465 0.5       ]\n",
      "0.0\n",
      "[0.28101193 0.02861139 1.03809365 0.02301721 0.54674298 0.83614192\n",
      " 0.03753685 0.5       ]\n",
      "0.0\n",
      "[2.91557197e-01 2.62956643e-02 1.11332693e+00 8.85714807e-01\n",
      " 4.64075775e-01 1.19357940e-02 7.01239886e-04 5.00000000e-01]\n",
      "0.0\n",
      "[ 0.25640631 -0.02465038  1.12959359  0.02486223  0.36048996  0.93167462\n",
      "  0.03756682  0.5       ]\n",
      "0.0\n",
      "[ 0.29682983 -0.07328069  1.12959359  0.01594622  0.08552109  0.99528911\n",
      "  0.04279553  0.5       ]\n",
      "0.0\n",
      "[ 0.29682983  0.11429338  1.03809365  0.00890492 -0.88954213 -0.45657912\n",
      "  0.01307687  0.5       ]\n",
      "0.0\n",
      "[ 0.26167894  0.06566306  1.01369367  0.0138358  -0.99984071 -0.00602955\n",
      "  0.00952735  0.5       ]\n",
      "0.0\n",
      "[ 2.52891220e-01  6.10316033e-02  1.05029365e+00  4.50339568e-05\n",
      " -4.40256331e-01 -8.97739148e-01  1.54526211e-02  5.00000000e-01]\n",
      "0.0\n",
      "[ 0.32495054 -0.07096497  1.12959359 -0.75589301 -0.65431565 -0.01214097\n",
      "  0.01869157  0.99803922]\n",
      "0.0\n",
      "[ 0.31967791 -0.010756    0.87136045  0.01290648  0.13467733  0.98988666\n",
      "  0.04265965  0.5       ]\n",
      "A path could not be found. Most likely due to the target being inaccessible or a collison was detected.\n",
      "[0.27046666 0.04945296 1.00759368 0.01534309 0.18325916 0.98205118\n",
      " 0.04190638 0.5       ]\n",
      "A path could not be found. Most likely due to the target being inaccessible or a collison was detected.\n",
      "[ 0.27046666  0.06334733  1.03809365  0.99984464 -0.01510609  0.0065798\n",
      "  0.00626132  0.5       ]\n",
      "0.0\n",
      "[0.30034492 0.05408442 1.01369367 0.9942879  0.10606813 0.01075387\n",
      " 0.00504843 0.5       ]\n",
      "0.0\n",
      "[ 0.30210246  0.09345181  1.12959359  0.01382905 -0.99983011 -0.00601459\n",
      "  0.01059921  0.5       ]\n",
      "0.0\n",
      "[ 0.24234595 -0.00844027  1.03097699  0.03077641  0.6545668   0.75471754\n",
      "  0.03156807  0.5       ]\n",
      "0.0\n",
      "[ 0.28276948  0.12124056  1.11332693  0.01383186 -0.99983466 -0.00602082\n",
      "  0.0101526   0.5       ]\n",
      "0.0\n",
      "[0.29858737 0.04250577 1.00047702 0.02586742 0.40598534 0.91277754\n",
      " 0.03665984 0.5       ]\n",
      "0.0\n",
      "[3.05617552e-01 4.01900399e-02 1.02386033e+00 7.48163983e-01\n",
      " 6.63450794e-01 9.14784506e-03 1.22695853e-04 5.00000000e-01]\n",
      "0.0\n",
      "[ 0.33725335  0.07955744  1.12044359  0.04407234  0.99895861  0.00659846\n",
      " -0.00978703  0.99803922]\n",
      "0.0\n",
      "[0.2915572  0.00776983 1.07469363 0.12268853 0.4792338  0.8453299\n",
      " 0.20174206 0.5       ]\n",
      "0.0\n",
      "[ 0.2915572   0.07029452  1.1143436   0.00276055 -0.00968232  0.27278821\n",
      "  0.96202143  0.5       ]\n",
      "A path could not be found. Most likely due to the target being inaccessible or a collison was detected.\n",
      "[ 0.29682983 -0.03159757  1.024877    0.08048931  0.2436828   0.94048013\n",
      "  0.22279427  0.99803922]\n",
      "0.0\n",
      "[ 0.29682983  0.12818775  1.12959359 -0.04394809 -0.9989639   0.00574116\n",
      "  0.01033066  0.5       ]\n",
      "0.0\n",
      "[ 0.25640631  0.3296562   1.12959359  0.04407234  0.99895861  0.00659846\n",
      " -0.00978703  0.5       ]\n",
      "0.0\n",
      "[ 0.30386001  0.11197765  1.12146026 -0.00309557 -0.39552455 -0.91830268\n",
      "  0.01646022  0.99803922]\n",
      "0.0\n",
      "[ 2.65194031e-01  7.02945204e-02  1.12146026e+00  8.43128195e-01\n",
      "  5.37583036e-01  1.18016095e-02 -2.18340365e-04  5.00000000e-01]\n",
      "0.0\n",
      "[ 0.25289122  0.03787431  1.024877    0.01384478 -0.99985306 -0.00604949\n",
      "  0.0080982   0.5       ]\n",
      "0.0\n",
      "[ 0.32495054  0.06566306  1.12959359  0.01383017 -0.99983195 -0.00601708\n",
      "  0.01042057  0.5       ]\n",
      "0.0\n",
      "[0.22652805 0.12355629 1.02589366 0.00575985 0.15938928 0.98623337\n",
      " 0.04365354 0.5       ]\n",
      "A path could not be found. Most likely due to the target being inaccessible or a collison was detected.\n",
      "[ 0.25289122  0.01471702  1.05334364  0.56560068 -0.0487416  -0.05833511\n",
      "  0.82116816  0.5       ]\n"
     ]
    },
    {
     "ename": "KeyboardInterrupt",
     "evalue": "",
     "output_type": "error",
     "traceback": [
      "\u001b[0;31m---------------------------------------------------------------------------\u001b[0m",
      "\u001b[0;31mKeyboardInterrupt\u001b[0m                         Traceback (most recent call last)",
      "Cell \u001b[0;32mIn[10], line 17\u001b[0m\n\u001b[1;32m     15\u001b[0m     action \u001b[38;5;241m=\u001b[39m np\u001b[38;5;241m.\u001b[39mconcatenate([action[\u001b[38;5;241m0\u001b[39m:\u001b[38;5;241m3\u001b[39m], action_quaternion, action[\u001b[38;5;241m-\u001b[39m\u001b[38;5;241m1\u001b[39m:]])\n\u001b[1;32m     16\u001b[0m     \u001b[38;5;28mprint\u001b[39m(action)\n\u001b[0;32m---> 17\u001b[0m     obs, reward, terminate \u001b[38;5;241m=\u001b[39m \u001b[43mtask\u001b[49m\u001b[38;5;241;43m.\u001b[39;49m\u001b[43mstep\u001b[49m\u001b[43m(\u001b[49m\u001b[43maction\u001b[49m\u001b[43m)\u001b[49m\n\u001b[1;32m     18\u001b[0m     \u001b[38;5;28mprint\u001b[39m(reward)\n\u001b[1;32m     19\u001b[0m \u001b[38;5;28;01mexcept\u001b[39;00m \u001b[38;5;167;01mException\u001b[39;00m \u001b[38;5;28;01mas\u001b[39;00m e:\n",
      "File \u001b[0;32m~/anaconda3/envs/VLA-RL/lib/python3.11/site-packages/rlbench/task_environment.py:100\u001b[0m, in \u001b[0;36mTaskEnvironment.step\u001b[0;34m(self, action)\u001b[0m\n\u001b[1;32m     97\u001b[0m \u001b[38;5;28;01mif\u001b[39;00m \u001b[38;5;129;01mnot\u001b[39;00m \u001b[38;5;28mself\u001b[39m\u001b[38;5;241m.\u001b[39m_reset_called:\n\u001b[1;32m     98\u001b[0m     \u001b[38;5;28;01mraise\u001b[39;00m \u001b[38;5;167;01mRuntimeError\u001b[39;00m(\n\u001b[1;32m     99\u001b[0m         \u001b[38;5;124m\"\u001b[39m\u001b[38;5;124mCall \u001b[39m\u001b[38;5;124m'\u001b[39m\u001b[38;5;124mreset\u001b[39m\u001b[38;5;124m'\u001b[39m\u001b[38;5;124m before calling \u001b[39m\u001b[38;5;124m'\u001b[39m\u001b[38;5;124mstep\u001b[39m\u001b[38;5;124m'\u001b[39m\u001b[38;5;124m on a task.\u001b[39m\u001b[38;5;124m\"\u001b[39m)\n\u001b[0;32m--> 100\u001b[0m \u001b[38;5;28;43mself\u001b[39;49m\u001b[38;5;241;43m.\u001b[39;49m\u001b[43m_action_mode\u001b[49m\u001b[38;5;241;43m.\u001b[39;49m\u001b[43maction\u001b[49m\u001b[43m(\u001b[49m\u001b[38;5;28;43mself\u001b[39;49m\u001b[38;5;241;43m.\u001b[39;49m\u001b[43m_scene\u001b[49m\u001b[43m,\u001b[49m\u001b[43m \u001b[49m\u001b[43maction\u001b[49m\u001b[43m)\u001b[49m\n\u001b[1;32m    101\u001b[0m success, terminate \u001b[38;5;241m=\u001b[39m \u001b[38;5;28mself\u001b[39m\u001b[38;5;241m.\u001b[39m_task\u001b[38;5;241m.\u001b[39msuccess()\n\u001b[1;32m    102\u001b[0m reward \u001b[38;5;241m=\u001b[39m \u001b[38;5;28mfloat\u001b[39m(success)\n",
      "File \u001b[0;32m~/anaconda3/envs/VLA-RL/lib/python3.11/site-packages/rlbench/action_modes/action_mode.py:41\u001b[0m, in \u001b[0;36mMoveArmThenGripper.action\u001b[0;34m(self, scene, action)\u001b[0m\n\u001b[1;32m     39\u001b[0m arm_action \u001b[38;5;241m=\u001b[39m np\u001b[38;5;241m.\u001b[39marray(action[:arm_act_size])\n\u001b[1;32m     40\u001b[0m ee_action \u001b[38;5;241m=\u001b[39m np\u001b[38;5;241m.\u001b[39marray(action[arm_act_size:])\n\u001b[0;32m---> 41\u001b[0m \u001b[38;5;28;43mself\u001b[39;49m\u001b[38;5;241;43m.\u001b[39;49m\u001b[43marm_action_mode\u001b[49m\u001b[38;5;241;43m.\u001b[39;49m\u001b[43maction\u001b[49m\u001b[43m(\u001b[49m\u001b[43mscene\u001b[49m\u001b[43m,\u001b[49m\u001b[43m \u001b[49m\u001b[43marm_action\u001b[49m\u001b[43m)\u001b[49m\n\u001b[1;32m     42\u001b[0m \u001b[38;5;28mself\u001b[39m\u001b[38;5;241m.\u001b[39mgripper_action_mode\u001b[38;5;241m.\u001b[39maction(scene, ee_action)\n",
      "File \u001b[0;32m~/anaconda3/envs/VLA-RL/lib/python3.11/site-packages/rlbench/action_modes/arm_action_modes.py:256\u001b[0m, in \u001b[0;36mEndEffectorPoseViaPlanning.action\u001b[0;34m(self, scene, action)\u001b[0m\n\u001b[1;32m    253\u001b[0m         [s\u001b[38;5;241m.\u001b[39mset_collidable(\u001b[38;5;28;01mFalse\u001b[39;00m) \u001b[38;5;28;01mfor\u001b[39;00m s \u001b[38;5;129;01min\u001b[39;00m colliding_shapes]\n\u001b[1;32m    255\u001b[0m \u001b[38;5;28;01mtry\u001b[39;00m:\n\u001b[0;32m--> 256\u001b[0m     path \u001b[38;5;241m=\u001b[39m \u001b[43mscene\u001b[49m\u001b[38;5;241;43m.\u001b[39;49m\u001b[43mrobot\u001b[49m\u001b[38;5;241;43m.\u001b[39;49m\u001b[43marm\u001b[49m\u001b[38;5;241;43m.\u001b[39;49m\u001b[43mget_path\u001b[49m\u001b[43m(\u001b[49m\n\u001b[1;32m    257\u001b[0m \u001b[43m        \u001b[49m\u001b[43maction\u001b[49m\u001b[43m[\u001b[49m\u001b[43m:\u001b[49m\u001b[38;5;241;43m3\u001b[39;49m\u001b[43m]\u001b[49m\u001b[43m,\u001b[49m\n\u001b[1;32m    258\u001b[0m \u001b[43m        \u001b[49m\u001b[43mquaternion\u001b[49m\u001b[38;5;241;43m=\u001b[39;49m\u001b[43maction\u001b[49m\u001b[43m[\u001b[49m\u001b[38;5;241;43m3\u001b[39;49m\u001b[43m:\u001b[49m\u001b[43m]\u001b[49m\u001b[43m,\u001b[49m\n\u001b[1;32m    259\u001b[0m \u001b[43m        \u001b[49m\u001b[43mignore_collisions\u001b[49m\u001b[38;5;241;43m=\u001b[39;49m\u001b[38;5;129;43;01mnot\u001b[39;49;00m\u001b[43m \u001b[49m\u001b[38;5;28;43mself\u001b[39;49m\u001b[38;5;241;43m.\u001b[39;49m\u001b[43m_collision_checking\u001b[49m\u001b[43m,\u001b[49m\n\u001b[1;32m    260\u001b[0m \u001b[43m        \u001b[49m\u001b[43mrelative_to\u001b[49m\u001b[38;5;241;43m=\u001b[39;49m\u001b[43mrelative_to\u001b[49m\u001b[43m,\u001b[49m\n\u001b[1;32m    261\u001b[0m \u001b[43m        \u001b[49m\u001b[43mtrials\u001b[49m\u001b[38;5;241;43m=\u001b[39;49m\u001b[38;5;241;43m100\u001b[39;49m\u001b[43m,\u001b[49m\n\u001b[1;32m    262\u001b[0m \u001b[43m        \u001b[49m\u001b[43mmax_configs\u001b[49m\u001b[38;5;241;43m=\u001b[39;49m\u001b[38;5;241;43m10\u001b[39;49m\u001b[43m,\u001b[49m\n\u001b[1;32m    263\u001b[0m \u001b[43m        \u001b[49m\u001b[43mmax_time_ms\u001b[49m\u001b[38;5;241;43m=\u001b[39;49m\u001b[38;5;241;43m10\u001b[39;49m\u001b[43m,\u001b[49m\n\u001b[1;32m    264\u001b[0m \u001b[43m        \u001b[49m\u001b[43mtrials_per_goal\u001b[49m\u001b[38;5;241;43m=\u001b[39;49m\u001b[38;5;241;43m5\u001b[39;49m\u001b[43m,\u001b[49m\n\u001b[1;32m    265\u001b[0m \u001b[43m        \u001b[49m\u001b[43malgorithm\u001b[49m\u001b[38;5;241;43m=\u001b[39;49m\u001b[43mAlgos\u001b[49m\u001b[38;5;241;43m.\u001b[39;49m\u001b[43mRRTConnect\u001b[49m\n\u001b[1;32m    266\u001b[0m \u001b[43m    \u001b[49m\u001b[43m)\u001b[49m\n\u001b[1;32m    267\u001b[0m     [s\u001b[38;5;241m.\u001b[39mset_collidable(\u001b[38;5;28;01mTrue\u001b[39;00m) \u001b[38;5;28;01mfor\u001b[39;00m s \u001b[38;5;129;01min\u001b[39;00m colliding_shapes]\n\u001b[1;32m    268\u001b[0m \u001b[38;5;28;01mexcept\u001b[39;00m ConfigurationPathError \u001b[38;5;28;01mas\u001b[39;00m e:\n",
      "File \u001b[0;32m~/anaconda3/envs/VLA-RL/lib/python3.11/site-packages/pyrep/robots/arms/arm.py:453\u001b[0m, in \u001b[0;36mArm.get_path\u001b[0;34m(self, position, euler, quaternion, ignore_collisions, trials, max_configs, distance_threshold, max_time_ms, trials_per_goal, algorithm, relative_to)\u001b[0m\n\u001b[1;32m    450\u001b[0m     \u001b[38;5;28;01mpass\u001b[39;00m  \u001b[38;5;66;03m# Allowed. Try again, but with non-linear.\u001b[39;00m\n\u001b[1;32m    452\u001b[0m \u001b[38;5;66;03m# This time if an exception is thrown, we dont want to catch it.\u001b[39;00m\n\u001b[0;32m--> 453\u001b[0m p \u001b[38;5;241m=\u001b[39m \u001b[38;5;28;43mself\u001b[39;49m\u001b[38;5;241;43m.\u001b[39;49m\u001b[43mget_nonlinear_path\u001b[49m\u001b[43m(\u001b[49m\n\u001b[1;32m    454\u001b[0m \u001b[43m    \u001b[49m\u001b[43mposition\u001b[49m\u001b[43m,\u001b[49m\u001b[43m \u001b[49m\u001b[43meuler\u001b[49m\u001b[43m,\u001b[49m\u001b[43m \u001b[49m\u001b[43mquaternion\u001b[49m\u001b[43m,\u001b[49m\u001b[43m \u001b[49m\u001b[43mignore_collisions\u001b[49m\u001b[43m,\u001b[49m\u001b[43m \u001b[49m\u001b[43mtrials\u001b[49m\u001b[43m,\u001b[49m\u001b[43m \u001b[49m\u001b[43mmax_configs\u001b[49m\u001b[43m,\u001b[49m\n\u001b[1;32m    455\u001b[0m \u001b[43m    \u001b[49m\u001b[43mdistance_threshold\u001b[49m\u001b[43m,\u001b[49m\u001b[43m \u001b[49m\u001b[43mmax_time_ms\u001b[49m\u001b[43m,\u001b[49m\u001b[43m \u001b[49m\u001b[43mtrials_per_goal\u001b[49m\u001b[43m,\u001b[49m\u001b[43m \u001b[49m\u001b[43malgorithm\u001b[49m\u001b[43m,\u001b[49m\n\u001b[1;32m    456\u001b[0m \u001b[43m    \u001b[49m\u001b[43mrelative_to\u001b[49m\u001b[43m)\u001b[49m\n\u001b[1;32m    457\u001b[0m \u001b[38;5;28;01mreturn\u001b[39;00m p\n",
      "File \u001b[0;32m~/anaconda3/envs/VLA-RL/lib/python3.11/site-packages/pyrep/robots/arms/arm.py:394\u001b[0m, in \u001b[0;36mArm.get_nonlinear_path\u001b[0;34m(self, position, euler, quaternion, ignore_collisions, trials, max_configs, distance_threshold, max_time_ms, trials_per_goal, algorithm, relative_to)\u001b[0m\n\u001b[1;32m    391\u001b[0m \u001b[38;5;28;01mexcept\u001b[39;00m ConfigurationError \u001b[38;5;28;01mas\u001b[39;00m e:\n\u001b[1;32m    392\u001b[0m     \u001b[38;5;28;01mraise\u001b[39;00m ConfigurationPathError(\u001b[38;5;124m'\u001b[39m\u001b[38;5;124mCould not create path.\u001b[39m\u001b[38;5;124m'\u001b[39m) \u001b[38;5;28;01mfrom\u001b[39;00m \u001b[38;5;21;01me\u001b[39;00m\n\u001b[0;32m--> 394\u001b[0m _, ret_floats, _, _ \u001b[38;5;241m=\u001b[39m \u001b[43mutils\u001b[49m\u001b[38;5;241;43m.\u001b[39;49m\u001b[43mscript_call\u001b[49m\u001b[43m(\u001b[49m\n\u001b[1;32m    395\u001b[0m \u001b[43m    \u001b[49m\u001b[38;5;124;43m'\u001b[39;49m\u001b[38;5;124;43mgetNonlinearPath@PyRep\u001b[39;49m\u001b[38;5;124;43m'\u001b[39;49m\u001b[43m,\u001b[49m\u001b[43m \u001b[49m\u001b[43mPYREP_SCRIPT_TYPE\u001b[49m\u001b[43m,\u001b[49m\n\u001b[1;32m    396\u001b[0m \u001b[43m    \u001b[49m\u001b[43mints\u001b[49m\u001b[38;5;241;43m=\u001b[39;49m\u001b[43m[\u001b[49m\u001b[38;5;28;43mself\u001b[39;49m\u001b[38;5;241;43m.\u001b[39;49m\u001b[43m_collision_collection\u001b[49m\u001b[43m,\u001b[49m\u001b[43m \u001b[49m\u001b[38;5;28;43mint\u001b[39;49m\u001b[43m(\u001b[49m\u001b[43mignore_collisions\u001b[49m\u001b[43m)\u001b[49m\u001b[43m,\u001b[49m\n\u001b[1;32m    397\u001b[0m \u001b[43m          \u001b[49m\u001b[43mtrials_per_goal\u001b[49m\u001b[43m]\u001b[49m\u001b[43m \u001b[49m\u001b[38;5;241;43m+\u001b[39;49m\u001b[43m \u001b[49m\u001b[43mhandles\u001b[49m\u001b[43m,\u001b[49m\n\u001b[1;32m    398\u001b[0m \u001b[43m    \u001b[49m\u001b[43mfloats\u001b[49m\u001b[38;5;241;43m=\u001b[39;49m\u001b[43mconfigs\u001b[49m\u001b[38;5;241;43m.\u001b[39;49m\u001b[43mflatten\u001b[49m\u001b[43m(\u001b[49m\u001b[43m)\u001b[49m\u001b[38;5;241;43m.\u001b[39;49m\u001b[43mtolist\u001b[49m\u001b[43m(\u001b[49m\u001b[43m)\u001b[49m\u001b[43m,\u001b[49m\n\u001b[1;32m    399\u001b[0m \u001b[43m    \u001b[49m\u001b[43mstrings\u001b[49m\u001b[38;5;241;43m=\u001b[39;49m\u001b[43m[\u001b[49m\u001b[43malgorithm\u001b[49m\u001b[38;5;241;43m.\u001b[39;49m\u001b[43mvalue\u001b[49m\u001b[43m]\u001b[49m\u001b[43m)\u001b[49m\n\u001b[1;32m    401\u001b[0m \u001b[38;5;28;01mif\u001b[39;00m \u001b[38;5;28mlen\u001b[39m(ret_floats) \u001b[38;5;241m==\u001b[39m \u001b[38;5;241m0\u001b[39m:\n\u001b[1;32m    402\u001b[0m     \u001b[38;5;28;01mraise\u001b[39;00m ConfigurationPathError(\u001b[38;5;124m'\u001b[39m\u001b[38;5;124mCould not create path.\u001b[39m\u001b[38;5;124m'\u001b[39m)\n",
      "File \u001b[0;32m~/anaconda3/envs/VLA-RL/lib/python3.11/site-packages/pyrep/backend/utils.py:65\u001b[0m, in \u001b[0;36mscript_call\u001b[0;34m(function_name_at_script_name, script_handle_or_type, ints, floats, strings, bytes)\u001b[0m\n\u001b[1;32m     46\u001b[0m \u001b[38;5;28;01mdef\u001b[39;00m \u001b[38;5;21mscript_call\u001b[39m(function_name_at_script_name: \u001b[38;5;28mstr\u001b[39m,\n\u001b[1;32m     47\u001b[0m                 script_handle_or_type: \u001b[38;5;28mint\u001b[39m,\n\u001b[1;32m     48\u001b[0m                 ints\u001b[38;5;241m=\u001b[39m(), floats\u001b[38;5;241m=\u001b[39m(), strings\u001b[38;5;241m=\u001b[39m(), \u001b[38;5;28mbytes\u001b[39m\u001b[38;5;241m=\u001b[39m\u001b[38;5;124m'\u001b[39m\u001b[38;5;124m'\u001b[39m) \u001b[38;5;241m-\u001b[39m\u001b[38;5;241m>\u001b[39m (\n\u001b[1;32m     49\u001b[0m         Tuple[List[\u001b[38;5;28mint\u001b[39m], List[\u001b[38;5;28mfloat\u001b[39m], List[\u001b[38;5;28mstr\u001b[39m], \u001b[38;5;28mstr\u001b[39m]):\n\u001b[1;32m     50\u001b[0m \u001b[38;5;250m    \u001b[39m\u001b[38;5;124;03m\"\"\"Calls a script function (from a plugin, the main client application,\u001b[39;00m\n\u001b[1;32m     51\u001b[0m \u001b[38;5;124;03m    or from another script). This represents a callback inside of a script.\u001b[39;00m\n\u001b[1;32m     52\u001b[0m \n\u001b[0;32m   (...)\u001b[0m\n\u001b[1;32m     63\u001b[0m \u001b[38;5;124;03m    :return: Any number of return values from the called Lua function.\u001b[39;00m\n\u001b[1;32m     64\u001b[0m \u001b[38;5;124;03m    \"\"\"\u001b[39;00m\n\u001b[0;32m---> 65\u001b[0m     \u001b[38;5;28;01mreturn\u001b[39;00m \u001b[43msim\u001b[49m\u001b[38;5;241;43m.\u001b[39;49m\u001b[43msimExtCallScriptFunction\u001b[49m\u001b[43m(\u001b[49m\n\u001b[1;32m     66\u001b[0m \u001b[43m        \u001b[49m\u001b[43mfunction_name_at_script_name\u001b[49m\u001b[43m,\u001b[49m\u001b[43m \u001b[49m\u001b[43mscript_handle_or_type\u001b[49m\u001b[43m,\u001b[49m\u001b[43m \u001b[49m\u001b[38;5;28;43mlist\u001b[39;49m\u001b[43m(\u001b[49m\u001b[43mints\u001b[49m\u001b[43m)\u001b[49m\u001b[43m,\u001b[49m\n\u001b[1;32m     67\u001b[0m \u001b[43m        \u001b[49m\u001b[38;5;28;43mlist\u001b[39;49m\u001b[43m(\u001b[49m\u001b[43mfloats\u001b[49m\u001b[43m)\u001b[49m\u001b[43m,\u001b[49m\u001b[43m \u001b[49m\u001b[38;5;28;43mlist\u001b[39;49m\u001b[43m(\u001b[49m\u001b[43mstrings\u001b[49m\u001b[43m)\u001b[49m\u001b[43m,\u001b[49m\u001b[43m \u001b[49m\u001b[38;5;28;43mbytes\u001b[39;49m\u001b[43m)\u001b[49m\n",
      "File \u001b[0;32m~/anaconda3/envs/VLA-RL/lib/python3.11/site-packages/pyrep/backend/sim.py:690\u001b[0m, in \u001b[0;36msimExtCallScriptFunction\u001b[0;34m(functionNameAtScriptName, scriptHandleOrType, inputInts, inputFloats, inputStrings, inputBuffer)\u001b[0m\n\u001b[1;32m    687\u001b[0m outBuffer \u001b[38;5;241m=\u001b[39m ffi\u001b[38;5;241m.\u001b[39mnew(\u001b[38;5;124m'\u001b[39m\u001b[38;5;124mchar **\u001b[39m\u001b[38;5;124m'\u001b[39m)\n\u001b[1;32m    688\u001b[0m outBufferSize \u001b[38;5;241m=\u001b[39m ffi\u001b[38;5;241m.\u001b[39mnew(\u001b[38;5;124m'\u001b[39m\u001b[38;5;124mint *\u001b[39m\u001b[38;5;124m'\u001b[39m)\n\u001b[0;32m--> 690\u001b[0m ret \u001b[38;5;241m=\u001b[39m \u001b[43mlib\u001b[49m\u001b[38;5;241;43m.\u001b[39;49m\u001b[43msimExtCallScriptFunction\u001b[49m\u001b[43m(\u001b[49m\n\u001b[1;32m    691\u001b[0m \u001b[43m    \u001b[49m\u001b[43mscriptHandleOrType\u001b[49m\u001b[43m,\u001b[49m\u001b[43m \u001b[49m\u001b[43mfunctionNameAtScriptName\u001b[49m\u001b[38;5;241;43m.\u001b[39;49m\u001b[43mencode\u001b[49m\u001b[43m(\u001b[49m\u001b[38;5;124;43m'\u001b[39;49m\u001b[38;5;124;43mascii\u001b[39;49m\u001b[38;5;124;43m'\u001b[39;49m\u001b[43m)\u001b[49m\u001b[43m,\u001b[49m\n\u001b[1;32m    692\u001b[0m \u001b[43m    \u001b[49m\u001b[43minputInts\u001b[49m\u001b[43m,\u001b[49m\u001b[43m \u001b[49m\u001b[38;5;28;43mlen\u001b[39;49m\u001b[43m(\u001b[49m\u001b[43minputInts\u001b[49m\u001b[43m)\u001b[49m\u001b[43m,\u001b[49m\n\u001b[1;32m    693\u001b[0m \u001b[43m    \u001b[49m\u001b[43minputFloats\u001b[49m\u001b[43m,\u001b[49m\u001b[43m \u001b[49m\u001b[38;5;28;43mlen\u001b[39;49m\u001b[43m(\u001b[49m\u001b[43minputFloats\u001b[49m\u001b[43m)\u001b[49m\u001b[43m,\u001b[49m\n\u001b[1;32m    694\u001b[0m \u001b[43m    \u001b[49m\u001b[43mstrIn\u001b[49m\u001b[43m,\u001b[49m\u001b[43m \u001b[49m\u001b[38;5;28;43mlen\u001b[39;49m\u001b[43m(\u001b[49m\u001b[43minputStrings\u001b[49m\u001b[43m)\u001b[49m\u001b[43m,\u001b[49m\n\u001b[1;32m    695\u001b[0m \u001b[43m    \u001b[49m\u001b[38;5;28;43mstr\u001b[39;49m\u001b[43m(\u001b[49m\u001b[43minputBuffer\u001b[49m\u001b[43m)\u001b[49m\u001b[38;5;241;43m.\u001b[39;49m\u001b[43mencode\u001b[49m\u001b[43m(\u001b[49m\u001b[38;5;124;43m'\u001b[39;49m\u001b[38;5;124;43mascii\u001b[39;49m\u001b[38;5;124;43m'\u001b[39;49m\u001b[43m)\u001b[49m\u001b[43m,\u001b[49m\u001b[43m \u001b[49m\u001b[38;5;28;43mlen\u001b[39;49m\u001b[43m(\u001b[49m\u001b[38;5;28;43mstr\u001b[39;49m\u001b[43m(\u001b[49m\u001b[43minputBuffer\u001b[49m\u001b[43m)\u001b[49m\u001b[43m)\u001b[49m\u001b[43m,\u001b[49m\n\u001b[1;32m    696\u001b[0m \u001b[43m    \u001b[49m\u001b[43moutInt\u001b[49m\u001b[43m,\u001b[49m\u001b[43m \u001b[49m\u001b[43moutIntCnt\u001b[49m\u001b[43m,\u001b[49m\u001b[43m \u001b[49m\u001b[43moutFloat\u001b[49m\u001b[43m,\u001b[49m\u001b[43m \u001b[49m\u001b[43moutFloatCnt\u001b[49m\u001b[43m,\u001b[49m\n\u001b[1;32m    697\u001b[0m \u001b[43m    \u001b[49m\u001b[43moutString\u001b[49m\u001b[43m,\u001b[49m\u001b[43m \u001b[49m\u001b[43moutStringCnt\u001b[49m\u001b[43m,\u001b[49m\u001b[43m \u001b[49m\u001b[43moutBuffer\u001b[49m\u001b[43m,\u001b[49m\u001b[43m \u001b[49m\u001b[43moutBufferSize\u001b[49m\u001b[43m)\u001b[49m\n\u001b[1;32m    698\u001b[0m _check_return(ret)\n\u001b[1;32m    700\u001b[0m ret_ints \u001b[38;5;241m=\u001b[39m [outInt[\u001b[38;5;241m0\u001b[39m][i] \u001b[38;5;28;01mfor\u001b[39;00m i \u001b[38;5;129;01min\u001b[39;00m \u001b[38;5;28mrange\u001b[39m(outIntCnt[\u001b[38;5;241m0\u001b[39m])]\n",
      "\u001b[0;31mKeyboardInterrupt\u001b[0m: "
     ]
    }
   ],
   "source": [
    "task = env.get_task(PickUpCup)\n",
    "training_steps = 1000\n",
    "episode_length = 100\n",
    "obs = None\n",
    "for i in range(training_steps):\n",
    "    if i % episode_length == 0:\n",
    "        print('Reset Episode')\n",
    "        descriptions, obs = task.reset()\n",
    "        print(descriptions[1])\n",
    "    try:\n",
    "        action = agent.act(obs.overhead_rgb,descriptions[0], do_sample=True, unnorm_key=\"rlbench\")\n",
    "        action_rotation = Rotation.from_euler('xyz', action[3:6])\n",
    "        action_quaternion = action_rotation.as_quat()\n",
    "        # print(delta_quaternion)  # returns (qx, qy, qz, qw)\n",
    "        action = np.concatenate([action[0:3], action_quaternion, action[-1:]])\n",
    "        print(action)\n",
    "        obs, reward, terminate = task.step(action)\n",
    "        print(reward)\n",
    "    except Exception as e:\n",
    "        print(e)\n",
    "        continue"
   ]
  },
  {
   "cell_type": "code",
   "execution_count": 213,
   "metadata": {},
   "outputs": [
    {
     "name": "stdout",
     "output_type": "stream",
     "text": [
      "[CoppeliaSim:loadinfo]   done.\n"
     ]
    }
   ],
   "source": [
    "env.shutdown()"
   ]
  },
  {
   "cell_type": "code",
   "execution_count": null,
   "metadata": {},
   "outputs": [
    {
     "data": {
      "text/plain": [
       "array([-0.02001152,  0.02458013, -0.01649398,  0.00402673, -0.01346854,\n",
       "        0.02819962,  0.99607843])"
      ]
     },
     "execution_count": 10,
     "metadata": {},
     "output_type": "execute_result"
    }
   ],
   "source": [
    "action"
   ]
  }
 ],
 "metadata": {
  "kernelspec": {
   "display_name": "VLA-RL",
   "language": "python",
   "name": "python3"
  },
  "language_info": {
   "codemirror_mode": {
    "name": "ipython",
    "version": 3
   },
   "file_extension": ".py",
   "mimetype": "text/x-python",
   "name": "python",
   "nbconvert_exporter": "python",
   "pygments_lexer": "ipython3",
   "version": "3.11.0"
  }
 },
 "nbformat": 4,
 "nbformat_minor": 2
}
