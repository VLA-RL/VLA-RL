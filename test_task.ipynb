{
 "cells": [
  {
   "cell_type": "code",
   "execution_count": 1,
   "metadata": {},
   "outputs": [],
   "source": [
    "import numpy as np\n",
    "from rlbench.action_modes.action_mode import MoveArmThenGripper\n",
    "from rlbench.action_modes.arm_action_modes import ArmActionMode, JointVelocity, JointPosition, EndEffectorPoseViaPlanning, EndEffectorPoseViaIK\n",
    "\n",
    "\n",
    "from rlbench.action_modes.gripper_action_modes import Discrete\n",
    "from rlbench.environment import Environment\n",
    "from rlbench.observation_config import ObservationConfig, CameraConfig\n",
    "# from rlbench.tasks.pick_described_object import PickDescribedObject\n",
    "from rlbench.tasks import PutGroceriesInCupboard, PickAndLift, StackBlocks, PlaceHangerOnRack, PickDescribedObject, TakeLidOffSaucepan, SetTheTable\n",
    "from scipy.spatial.transform import Rotation as R\n",
    "from matplotlib import pyplot as plt\n",
    "from rlbench.sim2real.domain_randomization import RandomizationConfig\n",
    "\n",
    "\n",
    "class Agent(object):\n",
    "    def __init__(self, action_shape):\n",
    "        self.action_shape = action_shape\n",
    "\n",
    "    def act(self, obs):\n",
    "        xyz = np.array([2.78478146e-01, -8.15162994e-03,  1.47194254e+00])\n",
    "        rot = np.array([-3.14, 0.24243259,  3.14])\n",
    "        #rot to quat\n",
    "        quat = R.from_euler('xyz', rot).as_quat()\n",
    "        gripper = [1.0]\n",
    "        return np.concatenate([xyz,quat, gripper], axis=-1)\n"
   ]
  },
  {
   "cell_type": "code",
   "execution_count": 2,
   "metadata": {},
   "outputs": [],
   "source": [
    "camera = CameraConfig(image_size=(224, 224), depth=False, point_cloud=False, mask=False)\n",
    "obs_config = ObservationConfig(left_shoulder_camera=camera, right_shoulder_camera=camera, front_camera=camera, overhead_camera=camera)\n",
    "\n",
    "env = Environment(\n",
    "    action_mode=MoveArmThenGripper(\n",
    "        arm_action_mode=EndEffectorPoseViaPlanning(absolute_mode=True, collision_checking=True), gripper_action_mode=Discrete()),\n",
    "    obs_config=obs_config,\n",
    "    robot_setup='panda',\n",
    "    # randomize_every=1,\n",
    "    # visual_randomization_config=RandomizationConfig(),\n",
    "    # dynamics_randomization_config=RandomizationConfig(),\n",
    "    headless=False)\n",
    "env.launch()\n",
    "\n"
   ]
  },
  {
   "cell_type": "code",
   "execution_count": 14,
   "metadata": {},
   "outputs": [],
   "source": [
    "target_item_poses = []\n",
    "waypoints = []\n",
    "gripper_poses = []\n",
    "front_rgbs = []\n",
    "def callable_fun(obs, task, variation_num):\n",
    "    # target item pose\n",
    "    target_item_pose = task._task.get_graspable_objects()[variation_num].get_pose()\n",
    "    target_item_pose = np.concatenate([target_item_pose[:3], R.from_quat(target_item_pose[3:]).as_euler('xyz')])\n",
    "    target_item_poses.append(target_item_pose)\n",
    "\n",
    "    #waypoints\n",
    "    current_pose = np.array(obs.gripper_pose)\n",
    "    current_pose = np.concatenate([current_pose[:3], R.from_quat(current_pose[3:]).as_euler('xyz')])\n",
    "    gripper_poses.append(current_pose)\n",
    "    wps = [wp._waypoint.get_position() for wp in task._task._waypoints]\n",
    "    \n",
    "    if abs(current_pose[:3] - wps[0]).mean() < 1e-2:\n",
    "        waypoints.append(0)\n",
    "    elif abs(current_pose[:3] - wps[1]).mean() < 1e-2:\n",
    "        waypoints.append(1)\n",
    "    elif abs(current_pose[:3] - wps[2]).mean() < 1e-2:\n",
    "        waypoints.append(2)\n",
    "    else:\n",
    "        waypoints.append(-1)\n",
    "\n",
    "    #front rgb\n",
    "    front_rgbs.append(obs.front_rgb)\n",
    "    \n",
    "\n",
    "variation_num = 1\n",
    "task = env.get_task(PickDescribedObject)\n",
    "task.set_variation(variation_num)\n",
    "\n",
    "\n",
    "# demos = task.get_demos(1, live_demos=True, callable_each_step=lambda x: callable_fun(x,task=task, variation_num=variation_num)) \n",
    "# basket_position = task._task.dropin_box.get_position()\n",
    "# demos = np.array(demos).flatten()\n",
    "# descriptions, obs = task.reset() "
   ]
  },
  {
   "cell_type": "code",
   "execution_count": 7,
   "metadata": {},
   "outputs": [],
   "source": [
    "lower_bound = np.array([task._scene._workspace_minx, task._scene._workspace_miny, task._scene._workspace_minz])\n",
    "upper_bound = np.array([task._scene._workspace_maxx, task._scene._workspace_maxy, task._scene._workspace_maxz])"
   ]
  },
  {
   "cell_type": "code",
   "execution_count": 17,
   "metadata": {},
   "outputs": [
    {
     "data": {
      "text/plain": [
       "[<pyrep.objects.shape.Shape at 0x73ba3d5a1c50>,\n",
       " <pyrep.objects.shape.Shape at 0x73ba3d709590>,\n",
       " <pyrep.objects.shape.Shape at 0x73ba3d5a13d0>,\n",
       " <pyrep.objects.shape.Shape at 0x73ba3d5a0150>,\n",
       " <pyrep.objects.shape.Shape at 0x73ba3d5a2890>]"
      ]
     },
     "execution_count": 17,
     "metadata": {},
     "output_type": "execute_result"
    }
   ],
   "source": [
    "task.reset()\n"
   ]
  },
  {
   "cell_type": "code",
   "execution_count": 21,
   "metadata": {},
   "outputs": [
    {
     "data": {
      "text/plain": [
       "array([1.43620341])"
      ]
     },
     "execution_count": 21,
     "metadata": {},
     "output_type": "execute_result"
    }
   ],
   "source": [
    "np.random.uniform(-3.14, 3.14, 1)"
   ]
  },
  {
   "cell_type": "code",
   "execution_count": 22,
   "metadata": {},
   "outputs": [
    {
     "data": {
      "text/plain": [
       "array([ 0.        ,  0.        , -0.59670369])"
      ]
     },
     "execution_count": 22,
     "metadata": {},
     "output_type": "execute_result"
    }
   ],
   "source": [
    "np.concatenate([[0,0],np.random.uniform(-3.14, 3.14, 1)])"
   ]
  },
  {
   "cell_type": "code",
   "execution_count": 23,
   "metadata": {},
   "outputs": [
    {
     "name": "stdout",
     "output_type": "stream",
     "text": [
      "Could not find a valid joint configuration for desired end effector pose.\n",
      "Could not find a valid joint configuration for desired end effector pose.\n",
      "[[-0.24464975 -0.6636833   1.60429692 -2.36402249 -2.32371354  1.00386715\n",
      "   2.22322917]]\n",
      "[[ 1.90026295  0.69834369 -1.24154949 -1.5974555  -2.47537827  1.39533424\n",
      "   0.88429606]]\n",
      "Error in task pick_described_object. Demo was completed, but was not successful.\n",
      "Could not find a valid joint configuration for desired end effector pose.\n",
      "[[ 0.00967372 -1.49595559  0.49677411 -2.51521063 -2.5585649   2.09974694\n",
      "  -1.66110706]]\n",
      "Error in task pick_described_object. Demo was completed, but was not successful.\n",
      "[[ 0.59480083  1.73567116 -1.69148958 -1.26195729 -1.37286305  1.62037659\n",
      "  -2.13434911]]\n",
      "[[ 1.29476559  0.8506071  -0.65145767 -1.66414869 -2.52634454  0.91050774\n",
      "  -1.17557061]]\n",
      "Error in task pick_described_object. Demo was completed, but was not successful.\n",
      "[[-2.67647314 -0.95002103  2.75932956 -2.70044804 -0.68128598  0.50202042\n",
      "   1.03859878]]\n"
     ]
    },
    {
     "ename": "KeyboardInterrupt",
     "evalue": "",
     "output_type": "error",
     "traceback": [
      "\u001b[0;31m---------------------------------------------------------------------------\u001b[0m",
      "\u001b[0;31mKeyboardInterrupt\u001b[0m                         Traceback (most recent call last)",
      "Cell \u001b[0;32mIn[23], line 14\u001b[0m\n\u001b[1;32m     12\u001b[0m     \u001b[38;5;28mprint\u001b[39m(joint_position)\n\u001b[1;32m     13\u001b[0m     task\u001b[38;5;241m.\u001b[39m_scene\u001b[38;5;241m.\u001b[39mrobot\u001b[38;5;241m.\u001b[39marm\u001b[38;5;241m.\u001b[39mset_joint_positions(joint_position[\u001b[38;5;241m0\u001b[39m], disable_dynamics\u001b[38;5;241m=\u001b[39m\u001b[38;5;28;01mTrue\u001b[39;00m)\n\u001b[0;32m---> 14\u001b[0m     \u001b[43mtask\u001b[49m\u001b[38;5;241;43m.\u001b[39;49m\u001b[43m_scene\u001b[49m\u001b[38;5;241;43m.\u001b[39;49m\u001b[43mget_demo\u001b[49m\u001b[43m(\u001b[49m\u001b[43m)\u001b[49m \n\u001b[1;32m     15\u001b[0m \u001b[38;5;28;01mexcept\u001b[39;00m \u001b[38;5;167;01mException\u001b[39;00m \u001b[38;5;28;01mas\u001b[39;00m e:\n\u001b[1;32m     16\u001b[0m     \u001b[38;5;28mprint\u001b[39m(e)\n",
      "File \u001b[0;32m~/VLA-RL/RLBench/rlbench/backend/scene.py:375\u001b[0m, in \u001b[0;36mScene.get_demo\u001b[0;34m(self, record, callable_each_step, randomly_place)\u001b[0m\n\u001b[1;32m    373\u001b[0m     \u001b[38;5;28mself\u001b[39m\u001b[38;5;241m.\u001b[39mstep()\n\u001b[1;32m    374\u001b[0m     \u001b[38;5;28mself\u001b[39m\u001b[38;5;241m.\u001b[39m_joint_position_action \u001b[38;5;241m=\u001b[39m np\u001b[38;5;241m.\u001b[39mappend(path\u001b[38;5;241m.\u001b[39mget_executed_joint_position_action(), gripper_open)\n\u001b[0;32m--> 375\u001b[0m     \u001b[38;5;28;43mself\u001b[39;49m\u001b[38;5;241;43m.\u001b[39;49m\u001b[43m_demo_record_step\u001b[49m\u001b[43m(\u001b[49m\u001b[43mdemo\u001b[49m\u001b[43m,\u001b[49m\u001b[43m \u001b[49m\u001b[43mrecord\u001b[49m\u001b[43m,\u001b[49m\u001b[43m \u001b[49m\u001b[43mcallable_each_step\u001b[49m\u001b[43m)\u001b[49m\n\u001b[1;32m    376\u001b[0m     success, term \u001b[38;5;241m=\u001b[39m \u001b[38;5;28mself\u001b[39m\u001b[38;5;241m.\u001b[39mtask\u001b[38;5;241m.\u001b[39msuccess()\n\u001b[1;32m    378\u001b[0m point\u001b[38;5;241m.\u001b[39mend_of_path()\n",
      "File \u001b[0;32m~/VLA-RL/RLBench/rlbench/backend/scene.py:466\u001b[0m, in \u001b[0;36mScene._demo_record_step\u001b[0;34m(self, demo_list, record, func)\u001b[0m\n\u001b[1;32m    464\u001b[0m \u001b[38;5;28;01mdef\u001b[39;00m \u001b[38;5;21m_demo_record_step\u001b[39m(\u001b[38;5;28mself\u001b[39m, demo_list, record, func):\n\u001b[1;32m    465\u001b[0m     \u001b[38;5;28;01mif\u001b[39;00m record:\n\u001b[0;32m--> 466\u001b[0m         demo_list\u001b[38;5;241m.\u001b[39mappend(\u001b[38;5;28;43mself\u001b[39;49m\u001b[38;5;241;43m.\u001b[39;49m\u001b[43mget_observation\u001b[49m\u001b[43m(\u001b[49m\u001b[43m)\u001b[49m)\n\u001b[1;32m    467\u001b[0m     \u001b[38;5;28;01mif\u001b[39;00m func \u001b[38;5;129;01mis\u001b[39;00m \u001b[38;5;129;01mnot\u001b[39;00m \u001b[38;5;28;01mNone\u001b[39;00m:\n\u001b[1;32m    468\u001b[0m         func(\u001b[38;5;28mself\u001b[39m\u001b[38;5;241m.\u001b[39mget_observation())\n",
      "File \u001b[0;32m~/VLA-RL/RLBench/rlbench/backend/scene.py:240\u001b[0m, in \u001b[0;36mScene.get_observation\u001b[0;34m(self)\u001b[0m\n\u001b[1;32m    234\u001b[0m left_shoulder_rgb, left_shoulder_depth, left_shoulder_pcd \u001b[38;5;241m=\u001b[39m get_rgb_depth(\n\u001b[1;32m    235\u001b[0m     \u001b[38;5;28mself\u001b[39m\u001b[38;5;241m.\u001b[39m_cam_over_shoulder_left, lsc_ob\u001b[38;5;241m.\u001b[39mrgb, lsc_ob\u001b[38;5;241m.\u001b[39mdepth, lsc_ob\u001b[38;5;241m.\u001b[39mpoint_cloud,\n\u001b[1;32m    236\u001b[0m     lsc_ob\u001b[38;5;241m.\u001b[39mrgb_noise, lsc_ob\u001b[38;5;241m.\u001b[39mdepth_noise, lsc_ob\u001b[38;5;241m.\u001b[39mdepth_in_meters)\n\u001b[1;32m    237\u001b[0m right_shoulder_rgb, right_shoulder_depth, right_shoulder_pcd \u001b[38;5;241m=\u001b[39m get_rgb_depth(\n\u001b[1;32m    238\u001b[0m     \u001b[38;5;28mself\u001b[39m\u001b[38;5;241m.\u001b[39m_cam_over_shoulder_right, rsc_ob\u001b[38;5;241m.\u001b[39mrgb, rsc_ob\u001b[38;5;241m.\u001b[39mdepth, rsc_ob\u001b[38;5;241m.\u001b[39mpoint_cloud,\n\u001b[1;32m    239\u001b[0m     rsc_ob\u001b[38;5;241m.\u001b[39mrgb_noise, rsc_ob\u001b[38;5;241m.\u001b[39mdepth_noise, rsc_ob\u001b[38;5;241m.\u001b[39mdepth_in_meters)\n\u001b[0;32m--> 240\u001b[0m overhead_rgb, overhead_depth, overhead_pcd \u001b[38;5;241m=\u001b[39m \u001b[43mget_rgb_depth\u001b[49m\u001b[43m(\u001b[49m\n\u001b[1;32m    241\u001b[0m \u001b[43m    \u001b[49m\u001b[38;5;28;43mself\u001b[39;49m\u001b[38;5;241;43m.\u001b[39;49m\u001b[43m_cam_overhead\u001b[49m\u001b[43m,\u001b[49m\u001b[43m \u001b[49m\u001b[43moc_ob\u001b[49m\u001b[38;5;241;43m.\u001b[39;49m\u001b[43mrgb\u001b[49m\u001b[43m,\u001b[49m\u001b[43m \u001b[49m\u001b[43moc_ob\u001b[49m\u001b[38;5;241;43m.\u001b[39;49m\u001b[43mdepth\u001b[49m\u001b[43m,\u001b[49m\u001b[43m \u001b[49m\u001b[43moc_ob\u001b[49m\u001b[38;5;241;43m.\u001b[39;49m\u001b[43mpoint_cloud\u001b[49m\u001b[43m,\u001b[49m\n\u001b[1;32m    242\u001b[0m \u001b[43m    \u001b[49m\u001b[43moc_ob\u001b[49m\u001b[38;5;241;43m.\u001b[39;49m\u001b[43mrgb_noise\u001b[49m\u001b[43m,\u001b[49m\u001b[43m \u001b[49m\u001b[43moc_ob\u001b[49m\u001b[38;5;241;43m.\u001b[39;49m\u001b[43mdepth_noise\u001b[49m\u001b[43m,\u001b[49m\u001b[43m \u001b[49m\u001b[43moc_ob\u001b[49m\u001b[38;5;241;43m.\u001b[39;49m\u001b[43mdepth_in_meters\u001b[49m\u001b[43m)\u001b[49m\n\u001b[1;32m    243\u001b[0m wrist_rgb, wrist_depth, wrist_pcd \u001b[38;5;241m=\u001b[39m get_rgb_depth(\n\u001b[1;32m    244\u001b[0m     \u001b[38;5;28mself\u001b[39m\u001b[38;5;241m.\u001b[39m_cam_wrist, wc_ob\u001b[38;5;241m.\u001b[39mrgb, wc_ob\u001b[38;5;241m.\u001b[39mdepth, wc_ob\u001b[38;5;241m.\u001b[39mpoint_cloud,\n\u001b[1;32m    245\u001b[0m     wc_ob\u001b[38;5;241m.\u001b[39mrgb_noise, wc_ob\u001b[38;5;241m.\u001b[39mdepth_noise, wc_ob\u001b[38;5;241m.\u001b[39mdepth_in_meters)\n\u001b[1;32m    246\u001b[0m front_rgb, front_depth, front_pcd \u001b[38;5;241m=\u001b[39m get_rgb_depth(\n\u001b[1;32m    247\u001b[0m     \u001b[38;5;28mself\u001b[39m\u001b[38;5;241m.\u001b[39m_cam_front, fc_ob\u001b[38;5;241m.\u001b[39mrgb, fc_ob\u001b[38;5;241m.\u001b[39mdepth, fc_ob\u001b[38;5;241m.\u001b[39mpoint_cloud,\n\u001b[1;32m    248\u001b[0m     fc_ob\u001b[38;5;241m.\u001b[39mrgb_noise, fc_ob\u001b[38;5;241m.\u001b[39mdepth_noise, fc_ob\u001b[38;5;241m.\u001b[39mdepth_in_meters)\n",
      "File \u001b[0;32m~/VLA-RL/RLBench/rlbench/backend/scene.py:206\u001b[0m, in \u001b[0;36mScene.get_observation.<locals>.get_rgb_depth\u001b[0;34m(sensor, get_rgb, get_depth, get_pcd, rgb_noise, depth_noise, depth_in_meters)\u001b[0m\n\u001b[1;32m    204\u001b[0m rgb \u001b[38;5;241m=\u001b[39m depth \u001b[38;5;241m=\u001b[39m pcd \u001b[38;5;241m=\u001b[39m \u001b[38;5;28;01mNone\u001b[39;00m\n\u001b[1;32m    205\u001b[0m \u001b[38;5;28;01mif\u001b[39;00m sensor \u001b[38;5;129;01mis\u001b[39;00m \u001b[38;5;129;01mnot\u001b[39;00m \u001b[38;5;28;01mNone\u001b[39;00m \u001b[38;5;129;01mand\u001b[39;00m (get_rgb \u001b[38;5;129;01mor\u001b[39;00m get_depth):\n\u001b[0;32m--> 206\u001b[0m     \u001b[43msensor\u001b[49m\u001b[38;5;241;43m.\u001b[39;49m\u001b[43mhandle_explicitly\u001b[49m\u001b[43m(\u001b[49m\u001b[43m)\u001b[49m\n\u001b[1;32m    207\u001b[0m     \u001b[38;5;28;01mif\u001b[39;00m get_rgb:\n\u001b[1;32m    208\u001b[0m         rgb \u001b[38;5;241m=\u001b[39m sensor\u001b[38;5;241m.\u001b[39mcapture_rgb()\n",
      "File \u001b[0;32m~/anaconda3/envs/VLA-RL/lib/python3.11/site-packages/pyrep/objects/vision_sensor.py:119\u001b[0m, in \u001b[0;36mVisionSensor.handle_explicitly\u001b[0;34m(self)\u001b[0m\n\u001b[1;32m    116\u001b[0m \u001b[38;5;28;01mif\u001b[39;00m \u001b[38;5;129;01mnot\u001b[39;00m \u001b[38;5;28mself\u001b[39m\u001b[38;5;241m.\u001b[39mget_explicit_handling():\n\u001b[1;32m    117\u001b[0m     \u001b[38;5;28;01mraise\u001b[39;00m \u001b[38;5;167;01mRuntimeError\u001b[39;00m(\u001b[38;5;124m'\u001b[39m\u001b[38;5;124mThe explicit_handling is disabled. \u001b[39m\u001b[38;5;124m'\u001b[39m\n\u001b[1;32m    118\u001b[0m                        \u001b[38;5;124m'\u001b[39m\u001b[38;5;124mCall set_explicit_handling(value=1) to enable explicit_handling first.\u001b[39m\u001b[38;5;124m'\u001b[39m)\n\u001b[0;32m--> 119\u001b[0m \u001b[43msim\u001b[49m\u001b[38;5;241;43m.\u001b[39;49m\u001b[43msimHandleVisionSensor\u001b[49m\u001b[43m(\u001b[49m\u001b[38;5;28;43mself\u001b[39;49m\u001b[38;5;241;43m.\u001b[39;49m\u001b[43m_handle\u001b[49m\u001b[43m)\u001b[49m\n",
      "File \u001b[0;32m~/anaconda3/envs/VLA-RL/lib/python3.11/site-packages/pyrep/backend/sim.py:245\u001b[0m, in \u001b[0;36msimHandleVisionSensor\u001b[0;34m(sensorHandle)\u001b[0m\n\u001b[1;32m    243\u001b[0m auxValues \u001b[38;5;241m=\u001b[39m ffi\u001b[38;5;241m.\u001b[39mnew(\u001b[38;5;124m'\u001b[39m\u001b[38;5;124mfloat **\u001b[39m\u001b[38;5;124m'\u001b[39m)\n\u001b[1;32m    244\u001b[0m auxValuesCount \u001b[38;5;241m=\u001b[39m ffi\u001b[38;5;241m.\u001b[39mnew(\u001b[38;5;124m'\u001b[39m\u001b[38;5;124mint **\u001b[39m\u001b[38;5;124m'\u001b[39m)\n\u001b[0;32m--> 245\u001b[0m ret \u001b[38;5;241m=\u001b[39m \u001b[43mlib\u001b[49m\u001b[38;5;241;43m.\u001b[39;49m\u001b[43msimHandleVisionSensor\u001b[49m\u001b[43m(\u001b[49m\n\u001b[1;32m    246\u001b[0m \u001b[43m    \u001b[49m\u001b[43msensorHandle\u001b[49m\u001b[43m,\u001b[49m\u001b[43m \u001b[49m\u001b[43mauxValues\u001b[49m\u001b[43m,\u001b[49m\u001b[43m \u001b[49m\u001b[43mauxValuesCount\u001b[49m\u001b[43m)\u001b[49m\n\u001b[1;32m    247\u001b[0m _check_return(ret)\n\u001b[1;32m    249\u001b[0m k1 \u001b[38;5;241m=\u001b[39m \u001b[38;5;241m0\u001b[39m\n",
      "\u001b[0;31mKeyboardInterrupt\u001b[0m: "
     ]
    }
   ],
   "source": [
    "while True:\n",
    "    try:\n",
    "        task.reset()\n",
    "        [g.set_mass(10) for g in task._scene.task.get_graspable_objects()]\n",
    "        pos = np.random.uniform(lower_bound, upper_bound)\n",
    "        rot = np.concatenate([[0,0],np.random.uniform(-3.14, 3.14, 1)])\n",
    "        joint_position = task._scene.robot.arm.solve_ik_via_sampling(position=pos, euler=rot)\n",
    "        print(joint_position)\n",
    "        task._scene.robot.arm.set_joint_positions(joint_position[0], disable_dynamics=True)\n",
    "        task._scene.get_demo() \n",
    "    except Exception as e:\n",
    "        print(e)\n",
    "        continue"
   ]
  },
  {
   "cell_type": "code",
   "execution_count": null,
   "metadata": {},
   "outputs": [
    {
     "data": {
      "text/plain": [
       "array([0.45840645, 0.11885708, 1.25888794])"
      ]
     },
     "execution_count": 73,
     "metadata": {},
     "output_type": "execute_result"
    }
   ],
   "source": [
    "pos"
   ]
  },
  {
   "cell_type": "code",
   "execution_count": null,
   "metadata": {},
   "outputs": [
    {
     "data": {
      "text/plain": [
       "array([-2.39029574, -1.04149449,  1.40677524, -0.87902278,  1.31014657,\n",
       "        1.34261286,  0.62331313])"
      ]
     },
     "execution_count": 78,
     "metadata": {},
     "output_type": "execute_result"
    }
   ],
   "source": [
    "t[0]"
   ]
  },
  {
   "cell_type": "code",
   "execution_count": null,
   "metadata": {},
   "outputs": [],
   "source": []
  },
  {
   "cell_type": "code",
   "execution_count": null,
   "metadata": {},
   "outputs": [],
   "source": [
    "task._task.robot.arm.get_joint_positions()"
   ]
  },
  {
   "cell_type": "code",
   "execution_count": null,
   "metadata": {},
   "outputs": [
    {
     "ename": "RuntimeError",
     "evalue": "Tried to set values for 1 joints, but joint group consists of 7 joints.",
     "output_type": "error",
     "traceback": [
      "\u001b[0;31m---------------------------------------------------------------------------\u001b[0m",
      "\u001b[0;31mRuntimeError\u001b[0m                              Traceback (most recent call last)",
      "Cell \u001b[0;32mIn[68], line 1\u001b[0m\n\u001b[0;32m----> 1\u001b[0m \u001b[43mtask\u001b[49m\u001b[38;5;241;43m.\u001b[39;49m\u001b[43m_task\u001b[49m\u001b[38;5;241;43m.\u001b[39;49m\u001b[43mrobot\u001b[49m\u001b[38;5;241;43m.\u001b[39;49m\u001b[43marm\u001b[49m\u001b[38;5;241;43m.\u001b[39;49m\u001b[43mset_joint_positions\u001b[49m\u001b[43m(\u001b[49m\u001b[43mt\u001b[49m\u001b[43m,\u001b[49m\u001b[43m \u001b[49m\u001b[43mdisable_dynamics\u001b[49m\u001b[38;5;241;43m=\u001b[39;49m\u001b[38;5;28;43;01mFalse\u001b[39;49;00m\u001b[43m)\u001b[49m\n",
      "File \u001b[0;32m~/anaconda3/envs/VLA-RL/lib/python3.11/site-packages/pyrep/robots/robot_component.py:91\u001b[0m, in \u001b[0;36mRobotComponent.set_joint_positions\u001b[0;34m(self, positions, disable_dynamics)\u001b[0m\n\u001b[1;32m     78\u001b[0m \u001b[38;5;28;01mdef\u001b[39;00m \u001b[38;5;21mset_joint_positions\u001b[39m(\u001b[38;5;28mself\u001b[39m, positions: List[\u001b[38;5;28mfloat\u001b[39m],\n\u001b[1;32m     79\u001b[0m                         disable_dynamics: \u001b[38;5;28mbool\u001b[39m \u001b[38;5;241m=\u001b[39m \u001b[38;5;28;01mFalse\u001b[39;00m) \u001b[38;5;241m-\u001b[39m\u001b[38;5;241m>\u001b[39m \u001b[38;5;28;01mNone\u001b[39;00m:\n\u001b[1;32m     80\u001b[0m \u001b[38;5;250m    \u001b[39m\u001b[38;5;124;03m\"\"\"Sets the intrinsic position of the joints.\u001b[39;00m\n\u001b[1;32m     81\u001b[0m \n\u001b[1;32m     82\u001b[0m \u001b[38;5;124;03m    See :py:meth:`Joint.set_joint_position` for more information.\u001b[39;00m\n\u001b[0;32m   (...)\u001b[0m\n\u001b[1;32m     89\u001b[0m \u001b[38;5;124;03m        values depending on the joint type).\u001b[39;00m\n\u001b[1;32m     90\u001b[0m \u001b[38;5;124;03m    \"\"\"\u001b[39;00m\n\u001b[0;32m---> 91\u001b[0m     \u001b[38;5;28;43mself\u001b[39;49m\u001b[38;5;241;43m.\u001b[39;49m\u001b[43m_assert_len\u001b[49m\u001b[43m(\u001b[49m\u001b[43mpositions\u001b[49m\u001b[43m)\u001b[49m\n\u001b[1;32m     92\u001b[0m     \u001b[38;5;28;01mif\u001b[39;00m \u001b[38;5;129;01mnot\u001b[39;00m disable_dynamics:\n\u001b[1;32m     93\u001b[0m         [sim\u001b[38;5;241m.\u001b[39msimSetJointPosition(jh, p)  \u001b[38;5;66;03m# type: ignore\u001b[39;00m\n\u001b[1;32m     94\u001b[0m          \u001b[38;5;28;01mfor\u001b[39;00m jh, p \u001b[38;5;129;01min\u001b[39;00m \u001b[38;5;28mzip\u001b[39m(\u001b[38;5;28mself\u001b[39m\u001b[38;5;241m.\u001b[39m_joint_handles, positions)]\n",
      "File \u001b[0;32m~/anaconda3/envs/VLA-RL/lib/python3.11/site-packages/pyrep/robots/robot_component.py:272\u001b[0m, in \u001b[0;36mRobotComponent._assert_len\u001b[0;34m(self, inputs)\u001b[0m\n\u001b[1;32m    270\u001b[0m \u001b[38;5;28;01mdef\u001b[39;00m \u001b[38;5;21m_assert_len\u001b[39m(\u001b[38;5;28mself\u001b[39m, inputs: \u001b[38;5;28mlist\u001b[39m) \u001b[38;5;241m-\u001b[39m\u001b[38;5;241m>\u001b[39m \u001b[38;5;28;01mNone\u001b[39;00m:\n\u001b[1;32m    271\u001b[0m     \u001b[38;5;28;01mif\u001b[39;00m \u001b[38;5;28mlen\u001b[39m(\u001b[38;5;28mself\u001b[39m\u001b[38;5;241m.\u001b[39mjoints) \u001b[38;5;241m!=\u001b[39m \u001b[38;5;28mlen\u001b[39m(inputs):\n\u001b[0;32m--> 272\u001b[0m         \u001b[38;5;28;01mraise\u001b[39;00m \u001b[38;5;167;01mRuntimeError\u001b[39;00m(\n\u001b[1;32m    273\u001b[0m             \u001b[38;5;124m'\u001b[39m\u001b[38;5;124mTried to set values for \u001b[39m\u001b[38;5;132;01m%d\u001b[39;00m\u001b[38;5;124m joints, but joint group consists \u001b[39m\u001b[38;5;124m'\u001b[39m\n\u001b[1;32m    274\u001b[0m             \u001b[38;5;124m'\u001b[39m\u001b[38;5;124mof \u001b[39m\u001b[38;5;132;01m%d\u001b[39;00m\u001b[38;5;124m joints.\u001b[39m\u001b[38;5;124m'\u001b[39m \u001b[38;5;241m%\u001b[39m (\u001b[38;5;28mlen\u001b[39m(inputs), \u001b[38;5;28mlen\u001b[39m(\u001b[38;5;28mself\u001b[39m\u001b[38;5;241m.\u001b[39mjoints)))\n",
      "\u001b[0;31mRuntimeError\u001b[0m: Tried to set values for 1 joints, but joint group consists of 7 joints."
     ]
    }
   ],
   "source": [
    "task._task.robot.arm.set_joint_positions(t, disable_dynamics=False)"
   ]
  },
  {
   "cell_type": "code",
   "execution_count": null,
   "metadata": {},
   "outputs": [],
   "source": [
    "pose = task._scene.robot.arm.get_pose()"
   ]
  },
  {
   "cell_type": "code",
   "execution_count": null,
   "metadata": {},
   "outputs": [],
   "source": [
    "pose = task._scene.robot.gripper.get_pose()"
   ]
  },
  {
   "cell_type": "code",
   "execution_count": null,
   "metadata": {},
   "outputs": [
    {
     "data": {
      "text/plain": [
       "array([-0.30895138,  0.        ,  0.82001764,  0.70493394, -0.05539087,\n",
       "        0.70493394,  0.05539087])"
      ]
     },
     "execution_count": 58,
     "metadata": {},
     "output_type": "execute_result"
    }
   ],
   "source": [
    "pose"
   ]
  },
  {
   "cell_type": "code",
   "execution_count": null,
   "metadata": {},
   "outputs": [
    {
     "data": {
      "text/plain": [
       "[array([ 1.71994376,  1.03063357,  0.76814634, -2.73857355, -0.62196368,\n",
       "         1.4484781 ,  1.51707864]),\n",
       " array([ 1.78374875,  0.97574729,  0.74261177, -2.74671102, -0.58472776,\n",
       "         1.48901153,  1.46639824]),\n",
       " array([ 1.57353914,  1.17086387,  0.81756955, -2.71960711, -0.70464647,\n",
       "         1.3380208 ,  1.63778281]),\n",
       " array([ 1.89191079,  0.89694011,  0.69357264, -2.75655031, -0.52306801,\n",
       "         1.54782355,  1.38681591]),\n",
       " array([ 1.90677536,  0.88686758,  0.6864962 , -2.75784469, -0.51455921,\n",
       "         1.55495083,  1.37617207]),\n",
       " array([ 1.95952666,  0.85279727,  0.66018605, -2.76258612, -0.48476136,\n",
       "         1.57879663,  1.33903444]),\n",
       " array([ 1.38128495,  1.38814032,  0.85802186, -2.68991566, -0.80224621,\n",
       "         1.15676236,  1.80745387]),\n",
       " array([ 2.09896636,  0.77650785,  0.58535618, -2.77252078, -0.40806004,\n",
       "         1.63110006,  1.24682999]),\n",
       " array([ 1.31514108,  1.46905863,  0.86454886, -2.67892432, -0.82945621,\n",
       "         1.08683372,  1.86835229]),\n",
       " array([ 1.27473688,  1.51931381,  0.86646384, -2.67148924, -0.84647161,\n",
       "         1.0423578 ,  1.90542161]),\n",
       " array([ 1.24569023,  1.55564904,  0.86685503, -2.66627741, -0.85689938,\n",
       "         1.0100913 ,  1.9325099 ]),\n",
       " array([ 2.21832728,  0.72414398,  0.51593   , -2.77936649, -0.34552854,\n",
       "         1.66513503,  1.17394781]),\n",
       " array([ 2.23475266,  0.71774465,  0.50610512, -2.78015924, -0.33703715,\n",
       "         1.66913092,  1.16424322]),\n",
       " array([ 1.19008255,  1.62514246,  0.86536932, -2.65607238, -0.87467217,\n",
       "         0.94756997,  1.9845922 ]),\n",
       " array([-1.9114809 ,  1.13205516, -0.80904531, -2.72282553,  0.69037038,\n",
       "         1.35662186, -0.03230015]),\n",
       " array([-1.95229113e+00,  1.09196174e+00, -7.95261919e-01, -2.72817636e+00,\n",
       "         6.68160141e-01,  1.38844633e+00,  1.53091946e-03]),\n",
       " array([-1.88012862,  1.16367757, -0.81802905, -2.71936083,  0.70819819,\n",
       "         1.33100474, -0.05899712]),\n",
       " array([-1.99275041,  1.0542599 , -0.78102773, -2.73327518,  0.64512134,\n",
       "         1.41820526,  0.03442309]),\n",
       " array([ 2.29671192,  0.69554174,  0.46811506, -2.78302908, -0.30587342,\n",
       "         1.68308651,  1.12871814]),\n",
       " array([-2.01076984,  1.0380975 , -0.77391225, -2.73546028,  0.63532269,\n",
       "         1.43072462,  0.04873915]),\n",
       " array([-2.01229072,  1.0363977 , -0.77299935, -2.73637748,  0.63474649,\n",
       "         1.43207192,  0.04984026]),\n",
       " array([ 2.33653617,  0.68330705,  0.44248736, -2.78464389, -0.28705201,\n",
       "         1.691311  ,  1.10739625]),\n",
       " array([ 2.36414742,  0.67408508,  0.42490354, -2.7861197 , -0.2737402 ,\n",
       "         1.69621217,  1.09164858]),\n",
       " array([ 1.07717884,  1.76279998,  0.85315281, -2.63448071, -0.90044117,\n",
       "         0.82028413,  2.0921905 ]),\n",
       " array([ 2.41764593,  0.65909559,  0.3916353 , -2.78772569, -0.24657354,\n",
       "         1.70503783,  1.06243265]),\n",
       " array([ 2.47253013,  0.6455723 ,  0.35578844, -2.78927827, -0.22098657,\n",
       "         1.7130487 ,  1.03365302]),\n",
       " array([ 2.49423313,  0.64073753,  0.34144217, -2.78991365, -0.21095048,\n",
       "         1.71601152,  1.02253366]),\n",
       " array([-2.4694047 ,  0.74379873, -0.54522228, -2.77522826,  0.38295698,\n",
       "         1.64493024,  0.36733893]),\n",
       " array([-2.52161646,  0.72219294, -0.51413369, -2.77810287,  0.35614109,\n",
       "         1.65901184,  0.39857674]),\n",
       " array([ 2.61767268,  0.61728543,  0.25894257, -2.79276109, -0.15462971,\n",
       "         1.72933376,  0.96057504]),\n",
       " array([-2.72289038,  0.6573168 , -0.38772887, -2.78673792,  0.25787723,\n",
       "         1.70077145,  0.51011389]),\n",
       " array([ 2.80774093,  0.59502649,  0.12859905, -2.79535294, -0.07121646,\n",
       "         1.74119258,  0.86967242]),\n",
       " array([ 0.6641441 , -0.7407552 ,  2.60116053, -2.77559376,  0.37877068,\n",
       "         1.64709795,  0.37247491]),\n",
       " array([ 0.62192583, -0.72345114,  2.62625647, -2.77795529,  0.35704383,\n",
       "         1.65846431,  0.39758733]),\n",
       " array([ 0.92745787, -0.88176364,  2.45751119, -2.75662541,  0.52050102,\n",
       "         1.548756  ,  0.20128913]),\n",
       " array([ 0.94587761, -0.89409316,  2.44850254, -2.75495672,  0.53080171,\n",
       "         1.53977644,  0.188246  ]),\n",
       " array([-2.84607029,  0.62952697, -0.30641559, -2.79035711,  0.20099671,\n",
       "         1.71814668,  0.57329512]),\n",
       " array([ 1.00943148, -0.93944919,  2.41870308, -2.74881887,  0.56662309,\n",
       "         1.50630271,  0.14205194]),\n",
       " array([-1.00628638, -0.75999665, -2.57691669, -2.774611  , -0.38886112,\n",
       "         1.64230096,  1.22409594]),\n",
       " array([-0.78861946, -0.67719263, -2.70846605, -2.7862339 , -0.27787659,\n",
       "         1.6939199 ,  1.0969696 ]),\n",
       " array([-0.70929557, -0.65604424, -2.75959682, -2.78789592, -0.24000058,\n",
       "         1.70719218,  1.05471838]),\n",
       " array([-1.20079696, -0.86698622, -2.47342753, -2.76070762, -0.49618793,\n",
       "         1.5711652 ,  1.35358   ]),\n",
       " array([ 0.2533879 , -0.62244147,  2.86354947, -2.79121709,  0.18204454,\n",
       "         1.72285354,  0.59428215]),\n",
       " array([-0.62158161, -0.63507068, -2.8166635 , -2.79087949, -0.19837166,\n",
       "         1.71877122,  1.00873816]),\n",
       " array([ 0.20797868, -0.61495435,  2.89433312, -2.79192472,  0.16200697,\n",
       "         1.72708964,  0.61665398]),\n",
       " array([ 0.20675509, -0.61494386,  2.89494801, -2.79190207,  0.16093382,\n",
       "         1.72687411,  0.61623001]),\n",
       " array([-0.56278861, -0.6244157 , -2.8564117 , -2.79166746, -0.17220034,\n",
       "         1.72534668,  0.98030674]),\n",
       " array([-1.33067501, -0.95646483, -2.41100097, -2.74851704, -0.56965309,\n",
       "         1.50480092,  1.44654083]),\n",
       " array([-0.50624168, -0.61502612, -2.89465094, -2.79311037, -0.14672709,\n",
       "         1.73075008,  0.95207161]),\n",
       " array([-1.4009949 , -1.01319051, -2.38152885, -2.7407887 , -0.61004758,\n",
       "         1.46147156,  1.50070357]),\n",
       " array([ 1.27999055, -1.18361712,  2.3177793 , -2.71568894,  0.71785098,\n",
       "         1.31487882, -0.07428952]),\n",
       " array([-1.42712355, -1.03648603, -2.3708005 , -2.73703456, -0.62495142,\n",
       "         1.44342649,  1.52199554]),\n",
       " array([-1.43476713, -1.04146981, -2.3681879 , -2.7377665 , -0.6289987 ,\n",
       "         1.43974757,  1.52658212]),\n",
       " array([-1.46988297, -1.07480347, -2.35568142, -2.73258328, -0.64970964,\n",
       "         1.41475987,  1.55587971]),\n",
       " array([ 1.36335909, -1.27571321,  2.2974174 , -2.70373464,  0.76080513,\n",
       "         1.23910487, -0.1476905 ]),\n",
       " array([ 1.39608443, -1.31386578,  2.28996658, -2.69691706,  0.77667344,\n",
       "         1.20626318, -0.17718136]),\n",
       " array([ 1.41779041, -1.33833313,  2.28642058, -2.69454455,  0.78766501,\n",
       "         1.18583572, -0.19504313]),\n",
       " array([-1.71298325, -1.33302438, -2.2912724 , -2.69765425, -0.78057224,\n",
       "         1.20464206,  1.7654655 ]),\n",
       " array([ 1.55387902, -1.50484335,  2.27167559, -2.67130232,  0.84536093,\n",
       "         1.04129899, -0.31959727]),\n",
       " array([-1.88380802, -1.54146242, -2.27494931, -2.66841435, -0.85242742,\n",
       "         1.02357602,  1.92138362])]"
      ]
     },
     "execution_count": 57,
     "metadata": {},
     "output_type": "execute_result"
    }
   ],
   "source": [
    "task._scene.robot.arm.get_configs_for_tip_pose(position=pose[:3], quaternion= pose[3:])"
   ]
  },
  {
   "cell_type": "code",
   "execution_count": null,
   "metadata": {},
   "outputs": [
    {
     "ename": "ConfigurationError",
     "evalue": "Could not find a valid joint configuration for desired end effector pose.",
     "output_type": "error",
     "traceback": [
      "\u001b[0;31m---------------------------------------------------------------------------\u001b[0m",
      "\u001b[0;31mConfigurationError\u001b[0m                        Traceback (most recent call last)",
      "Cell \u001b[0;32mIn[39], line 1\u001b[0m\n\u001b[0;32m----> 1\u001b[0m \u001b[43mtask\u001b[49m\u001b[38;5;241;43m.\u001b[39;49m\u001b[43m_scene\u001b[49m\u001b[38;5;241;43m.\u001b[39;49m\u001b[43mrobot\u001b[49m\u001b[38;5;241;43m.\u001b[39;49m\u001b[43marm\u001b[49m\u001b[38;5;241;43m.\u001b[39;49m\u001b[43mget_configs_for_tip_pose\u001b[49m\u001b[43m(\u001b[49m\u001b[43mposition\u001b[49m\u001b[38;5;241;43m=\u001b[39;49m\u001b[43mpos\u001b[49m\u001b[43m,\u001b[49m\u001b[43m \u001b[49m\u001b[43meuler\u001b[49m\u001b[43m \u001b[49m\u001b[38;5;241;43m=\u001b[39;49m\u001b[43m \u001b[49m\u001b[43mrot\u001b[49m\u001b[43m)\u001b[49m\n",
      "File \u001b[0;32m~/anaconda3/envs/VLA-RL/lib/python3.11/site-packages/pyrep/robots/arms/arm.py:196\u001b[0m, in \u001b[0;36mArm.get_configs_for_tip_pose\u001b[0;34m(self, position, euler, quaternion, ignore_collisions, trials, max_configs, relative_to)\u001b[0m\n\u001b[1;32m    177\u001b[0m \u001b[38;5;250m\u001b[39m\u001b[38;5;124;03m\"\"\"Gets a valid joint configuration for a desired end effector pose.\u001b[39;00m\n\u001b[1;32m    178\u001b[0m \u001b[38;5;124;03mMust specify either rotation in euler or quaternions, but not both!\u001b[39;00m\n\u001b[1;32m    179\u001b[0m \u001b[38;5;124;03m:param position: The x, y, z position of the target.\u001b[39;00m\n\u001b[0;32m   (...)\u001b[0m\n\u001b[1;32m    191\u001b[0m \u001b[38;5;124;03mend effector pose.\u001b[39;00m\n\u001b[1;32m    192\u001b[0m \u001b[38;5;124;03m\"\"\"\u001b[39;00m\n\u001b[1;32m    194\u001b[0m warnings\u001b[38;5;241m.\u001b[39mwarn(\u001b[38;5;124m\"\u001b[39m\u001b[38;5;124mPlease use \u001b[39m\u001b[38;5;124m'\u001b[39m\u001b[38;5;124msolve_ik_via_sampling\u001b[39m\u001b[38;5;124m'\u001b[39m\u001b[38;5;124m instead.\u001b[39m\u001b[38;5;124m\"\u001b[39m,\n\u001b[1;32m    195\u001b[0m               \u001b[38;5;167;01mDeprecationWarning\u001b[39;00m)\n\u001b[0;32m--> 196\u001b[0m \u001b[38;5;28;01mreturn\u001b[39;00m \u001b[38;5;28mlist\u001b[39m(\u001b[38;5;28;43mself\u001b[39;49m\u001b[38;5;241;43m.\u001b[39;49m\u001b[43msolve_ik_via_sampling\u001b[49m\u001b[43m(\u001b[49m\n\u001b[1;32m    197\u001b[0m \u001b[43m    \u001b[49m\u001b[43mposition\u001b[49m\u001b[43m,\u001b[49m\u001b[43m \u001b[49m\u001b[43meuler\u001b[49m\u001b[43m,\u001b[49m\u001b[43m \u001b[49m\u001b[43mquaternion\u001b[49m\u001b[43m,\u001b[49m\u001b[43m \u001b[49m\u001b[43mignore_collisions\u001b[49m\u001b[43m,\u001b[49m\u001b[43m \u001b[49m\u001b[43mtrials\u001b[49m\u001b[43m,\u001b[49m\n\u001b[1;32m    198\u001b[0m \u001b[43m    \u001b[49m\u001b[43mmax_configs\u001b[49m\u001b[43m,\u001b[49m\u001b[43m \u001b[49m\u001b[43mrelative_to\u001b[49m\u001b[38;5;241;43m=\u001b[39;49m\u001b[43mrelative_to\u001b[49m\u001b[43m)\u001b[49m)\n",
      "File \u001b[0;32m~/anaconda3/envs/VLA-RL/lib/python3.11/site-packages/pyrep/robots/arms/arm.py:156\u001b[0m, in \u001b[0;36mArm.solve_ik_via_sampling\u001b[0;34m(self, position, euler, quaternion, ignore_collisions, trials, max_configs, distance_threshold, max_time_ms, relative_to)\u001b[0m\n\u001b[1;32m    154\u001b[0m \u001b[38;5;28mself\u001b[39m\u001b[38;5;241m.\u001b[39m_ik_target\u001b[38;5;241m.\u001b[39mset_pose(prev_pose)\n\u001b[1;32m    155\u001b[0m \u001b[38;5;28;01mif\u001b[39;00m \u001b[38;5;28mlen\u001b[39m(valid_joint_positions) \u001b[38;5;241m==\u001b[39m \u001b[38;5;241m0\u001b[39m:\n\u001b[0;32m--> 156\u001b[0m     \u001b[38;5;28;01mraise\u001b[39;00m ConfigurationError(\n\u001b[1;32m    157\u001b[0m         \u001b[38;5;124m'\u001b[39m\u001b[38;5;124mCould not find a valid joint configuration for desired \u001b[39m\u001b[38;5;124m'\u001b[39m\n\u001b[1;32m    158\u001b[0m         \u001b[38;5;124m'\u001b[39m\u001b[38;5;124mend effector pose.\u001b[39m\u001b[38;5;124m'\u001b[39m)\n\u001b[1;32m    160\u001b[0m \u001b[38;5;28;01mif\u001b[39;00m \u001b[38;5;28mlen\u001b[39m(valid_joint_positions) \u001b[38;5;241m>\u001b[39m \u001b[38;5;241m1\u001b[39m:\n\u001b[1;32m    161\u001b[0m     current_config \u001b[38;5;241m=\u001b[39m np\u001b[38;5;241m.\u001b[39marray(\u001b[38;5;28mself\u001b[39m\u001b[38;5;241m.\u001b[39mget_joint_positions())\n",
      "\u001b[0;31mConfigurationError\u001b[0m: Could not find a valid joint configuration for desired end effector pose."
     ]
    }
   ],
   "source": [
    "task._scene.robot.arm.get_configs_for_tip_pose(position=pos, euler = rot)"
   ]
  },
  {
   "cell_type": "code",
   "execution_count": null,
   "metadata": {},
   "outputs": [
    {
     "data": {
      "text/plain": [
       "array([0.53118789, 0.35893789, 1.11756635])"
      ]
     },
     "execution_count": 36,
     "metadata": {},
     "output_type": "execute_result"
    }
   ],
   "source": [
    "task._scene.robot.gripper.joints"
   ]
  },
  {
   "cell_type": "code",
   "execution_count": null,
   "metadata": {},
   "outputs": [
    {
     "data": {
      "text/plain": [
       "198"
      ]
     },
     "execution_count": 69,
     "metadata": {},
     "output_type": "execute_result"
    }
   ],
   "source": [
    "waypoints.index(2)"
   ]
  },
  {
   "cell_type": "code",
   "execution_count": null,
   "metadata": {},
   "outputs": [
    {
     "data": {
      "text/plain": [
       "array([ 3.22548747e-01,  1.10074833e-01,  8.24993849e-01, -1.66194528e-01,\n",
       "       -9.86092985e-01, -1.77989335e-04,  1.81580181e-05])"
      ]
     },
     "execution_count": 53,
     "metadata": {},
     "output_type": "execute_result"
    }
   ],
   "source": [
    "task._task._waypoints[0]._waypoint.get_pose()"
   ]
  },
  {
   "cell_type": "code",
   "execution_count": null,
   "metadata": {},
   "outputs": [
    {
     "data": {
      "text/plain": [
       "array([ 1.04694076e-01, -1.34871051e-01,  8.24995041e-01, -7.08412409e-01,\n",
       "       -7.05798745e-01, -9.15655528e-06, -9.35975368e-06])"
      ]
     },
     "execution_count": 51,
     "metadata": {},
     "output_type": "execute_result"
    }
   ],
   "source": [
    "task._task.grasp_points[0].get_pose()"
   ]
  },
  {
   "cell_type": "code",
   "execution_count": null,
   "metadata": {},
   "outputs": [
    {
     "data": {
      "text/plain": [
       "array([ 1.04602322e-01, -1.59870893e-01,  7.99995065e-01, -9.98937821e-08,\n",
       "       -1.30509416e-05, -1.84817833e-03,  9.99998331e-01])"
      ]
     },
     "execution_count": 50,
     "metadata": {},
     "output_type": "execute_result"
    }
   ],
   "source": [
    "task._task.get_graspable_objects()[0].get_pose()"
   ]
  },
  {
   "cell_type": "code",
   "execution_count": null,
   "metadata": {},
   "outputs": [
    {
     "data": {
      "text/plain": [
       "<pyrep.robots.end_effectors.panda_gripper.PandaGripper at 0x7fa07790ef50>"
      ]
     },
     "metadata": {},
     "output_type": "display_data"
    }
   ],
   "source": [
    "task._task.robot.gripper"
   ]
  },
  {
   "cell_type": "code",
   "execution_count": null,
   "metadata": {},
   "outputs": [
    {
     "data": {
      "text/plain": [
       "(<rlbench.backend.observation.Observation at 0x7fa0a5d9d150>, 0.0, False)"
      ]
     },
     "execution_count": 6,
     "metadata": {},
     "output_type": "execute_result"
    }
   ],
   "source": [
    "task._task._waypoints[0].get_waypoint_object().get_pose()\n",
    "task.step(np.concatenate([task._task._waypoints[0].get_waypoint_object().get_pose(),[1]]))"
   ]
  },
  {
   "cell_type": "code",
   "execution_count": null,
   "metadata": {},
   "outputs": [
    {
     "data": {
      "text/plain": [
       "(<rlbench.backend.observation.Observation at 0x7d01e17c2310>, 0.0, False)"
      ]
     },
     "execution_count": 74,
     "metadata": {},
     "output_type": "execute_result"
    }
   ],
   "source": [
    "task.step(np.concatenate([task._task.target_block.get_pose(),[0]]))"
   ]
  },
  {
   "cell_type": "code",
   "execution_count": null,
   "metadata": {},
   "outputs": [],
   "source": [
    "task.step(np.concatenate([task._task.target_block.get_pose(),[0]]))"
   ]
  },
  {
   "cell_type": "code",
   "execution_count": null,
   "metadata": {},
   "outputs": [
    {
     "ename": "InvalidActionError",
     "evalue": "A path could not be found. Most likely due to the target being inaccessible or a collison was detected.",
     "output_type": "error",
     "traceback": [
      "\u001b[0;31m---------------------------------------------------------------------------\u001b[0m",
      "\u001b[0;31mConfigurationError\u001b[0m                        Traceback (most recent call last)",
      "File \u001b[0;32m~/anaconda3/envs/VLA-RL/lib/python3.11/site-packages/pyrep/robots/arms/arm.py:388\u001b[0m, in \u001b[0;36mArm.get_nonlinear_path\u001b[0;34m(self, position, euler, quaternion, ignore_collisions, trials, max_configs, distance_threshold, max_time_ms, trials_per_goal, algorithm, relative_to)\u001b[0m\n\u001b[1;32m    387\u001b[0m \u001b[38;5;28;01mtry\u001b[39;00m:\n\u001b[0;32m--> 388\u001b[0m     configs \u001b[38;5;241m=\u001b[39m \u001b[38;5;28;43mself\u001b[39;49m\u001b[38;5;241;43m.\u001b[39;49m\u001b[43msolve_ik_via_sampling\u001b[49m\u001b[43m(\u001b[49m\n\u001b[1;32m    389\u001b[0m \u001b[43m        \u001b[49m\u001b[43mposition\u001b[49m\u001b[43m,\u001b[49m\u001b[43m \u001b[49m\u001b[43meuler\u001b[49m\u001b[43m,\u001b[49m\u001b[43m \u001b[49m\u001b[43mquaternion\u001b[49m\u001b[43m,\u001b[49m\u001b[43m \u001b[49m\u001b[43mignore_collisions\u001b[49m\u001b[43m,\u001b[49m\u001b[43m \u001b[49m\u001b[43mtrials\u001b[49m\u001b[43m,\u001b[49m\n\u001b[1;32m    390\u001b[0m \u001b[43m        \u001b[49m\u001b[43mmax_configs\u001b[49m\u001b[43m,\u001b[49m\u001b[43m \u001b[49m\u001b[43mdistance_threshold\u001b[49m\u001b[43m,\u001b[49m\u001b[43m \u001b[49m\u001b[43mmax_time_ms\u001b[49m\u001b[43m,\u001b[49m\u001b[43m \u001b[49m\u001b[43mrelative_to\u001b[49m\u001b[43m)\u001b[49m\n\u001b[1;32m    391\u001b[0m \u001b[38;5;28;01mexcept\u001b[39;00m ConfigurationError \u001b[38;5;28;01mas\u001b[39;00m e:\n",
      "File \u001b[0;32m~/anaconda3/envs/VLA-RL/lib/python3.11/site-packages/pyrep/robots/arms/arm.py:156\u001b[0m, in \u001b[0;36mArm.solve_ik_via_sampling\u001b[0;34m(self, position, euler, quaternion, ignore_collisions, trials, max_configs, distance_threshold, max_time_ms, relative_to)\u001b[0m\n\u001b[1;32m    155\u001b[0m \u001b[38;5;28;01mif\u001b[39;00m \u001b[38;5;28mlen\u001b[39m(valid_joint_positions) \u001b[38;5;241m==\u001b[39m \u001b[38;5;241m0\u001b[39m:\n\u001b[0;32m--> 156\u001b[0m     \u001b[38;5;28;01mraise\u001b[39;00m ConfigurationError(\n\u001b[1;32m    157\u001b[0m         \u001b[38;5;124m'\u001b[39m\u001b[38;5;124mCould not find a valid joint configuration for desired \u001b[39m\u001b[38;5;124m'\u001b[39m\n\u001b[1;32m    158\u001b[0m         \u001b[38;5;124m'\u001b[39m\u001b[38;5;124mend effector pose.\u001b[39m\u001b[38;5;124m'\u001b[39m)\n\u001b[1;32m    160\u001b[0m \u001b[38;5;28;01mif\u001b[39;00m \u001b[38;5;28mlen\u001b[39m(valid_joint_positions) \u001b[38;5;241m>\u001b[39m \u001b[38;5;241m1\u001b[39m:\n",
      "\u001b[0;31mConfigurationError\u001b[0m: Could not find a valid joint configuration for desired end effector pose.",
      "\nThe above exception was the direct cause of the following exception:\n",
      "\u001b[0;31mConfigurationPathError\u001b[0m                    Traceback (most recent call last)",
      "File \u001b[0;32m~/VLA-RL/RLBench/rlbench/action_modes/arm_action_modes.py:256\u001b[0m, in \u001b[0;36mEndEffectorPoseViaPlanning.action\u001b[0;34m(self, scene, action)\u001b[0m\n\u001b[1;32m    255\u001b[0m \u001b[38;5;28;01mtry\u001b[39;00m:\n\u001b[0;32m--> 256\u001b[0m     path \u001b[38;5;241m=\u001b[39m \u001b[43mscene\u001b[49m\u001b[38;5;241;43m.\u001b[39;49m\u001b[43mrobot\u001b[49m\u001b[38;5;241;43m.\u001b[39;49m\u001b[43marm\u001b[49m\u001b[38;5;241;43m.\u001b[39;49m\u001b[43mget_path\u001b[49m\u001b[43m(\u001b[49m\n\u001b[1;32m    257\u001b[0m \u001b[43m        \u001b[49m\u001b[43maction\u001b[49m\u001b[43m[\u001b[49m\u001b[43m:\u001b[49m\u001b[38;5;241;43m3\u001b[39;49m\u001b[43m]\u001b[49m\u001b[43m,\u001b[49m\n\u001b[1;32m    258\u001b[0m \u001b[43m        \u001b[49m\u001b[43mquaternion\u001b[49m\u001b[38;5;241;43m=\u001b[39;49m\u001b[43maction\u001b[49m\u001b[43m[\u001b[49m\u001b[38;5;241;43m3\u001b[39;49m\u001b[43m:\u001b[49m\u001b[43m]\u001b[49m\u001b[43m,\u001b[49m\n\u001b[1;32m    259\u001b[0m \u001b[43m        \u001b[49m\u001b[43mignore_collisions\u001b[49m\u001b[38;5;241;43m=\u001b[39;49m\u001b[38;5;129;43;01mnot\u001b[39;49;00m\u001b[43m \u001b[49m\u001b[38;5;28;43mself\u001b[39;49m\u001b[38;5;241;43m.\u001b[39;49m\u001b[43m_collision_checking\u001b[49m\u001b[43m,\u001b[49m\n\u001b[1;32m    260\u001b[0m \u001b[43m        \u001b[49m\u001b[43mrelative_to\u001b[49m\u001b[38;5;241;43m=\u001b[39;49m\u001b[43mrelative_to\u001b[49m\u001b[43m,\u001b[49m\n\u001b[1;32m    261\u001b[0m \u001b[43m        \u001b[49m\u001b[43mtrials\u001b[49m\u001b[38;5;241;43m=\u001b[39;49m\u001b[38;5;241;43m100\u001b[39;49m\u001b[43m,\u001b[49m\n\u001b[1;32m    262\u001b[0m \u001b[43m        \u001b[49m\u001b[43mmax_configs\u001b[49m\u001b[38;5;241;43m=\u001b[39;49m\u001b[38;5;241;43m10\u001b[39;49m\u001b[43m,\u001b[49m\n\u001b[1;32m    263\u001b[0m \u001b[43m        \u001b[49m\u001b[43mmax_time_ms\u001b[49m\u001b[38;5;241;43m=\u001b[39;49m\u001b[38;5;241;43m10\u001b[39;49m\u001b[43m,\u001b[49m\n\u001b[1;32m    264\u001b[0m \u001b[43m        \u001b[49m\u001b[43mtrials_per_goal\u001b[49m\u001b[38;5;241;43m=\u001b[39;49m\u001b[38;5;241;43m5\u001b[39;49m\u001b[43m,\u001b[49m\n\u001b[1;32m    265\u001b[0m \u001b[43m        \u001b[49m\u001b[43malgorithm\u001b[49m\u001b[38;5;241;43m=\u001b[39;49m\u001b[43mAlgos\u001b[49m\u001b[38;5;241;43m.\u001b[39;49m\u001b[43mRRTConnect\u001b[49m\n\u001b[1;32m    266\u001b[0m \u001b[43m    \u001b[49m\u001b[43m)\u001b[49m\n\u001b[1;32m    267\u001b[0m     [s\u001b[38;5;241m.\u001b[39mset_collidable(\u001b[38;5;28;01mTrue\u001b[39;00m) \u001b[38;5;28;01mfor\u001b[39;00m s \u001b[38;5;129;01min\u001b[39;00m colliding_shapes]\n",
      "File \u001b[0;32m~/anaconda3/envs/VLA-RL/lib/python3.11/site-packages/pyrep/robots/arms/arm.py:453\u001b[0m, in \u001b[0;36mArm.get_path\u001b[0;34m(self, position, euler, quaternion, ignore_collisions, trials, max_configs, distance_threshold, max_time_ms, trials_per_goal, algorithm, relative_to)\u001b[0m\n\u001b[1;32m    452\u001b[0m \u001b[38;5;66;03m# This time if an exception is thrown, we dont want to catch it.\u001b[39;00m\n\u001b[0;32m--> 453\u001b[0m p \u001b[38;5;241m=\u001b[39m \u001b[38;5;28;43mself\u001b[39;49m\u001b[38;5;241;43m.\u001b[39;49m\u001b[43mget_nonlinear_path\u001b[49m\u001b[43m(\u001b[49m\n\u001b[1;32m    454\u001b[0m \u001b[43m    \u001b[49m\u001b[43mposition\u001b[49m\u001b[43m,\u001b[49m\u001b[43m \u001b[49m\u001b[43meuler\u001b[49m\u001b[43m,\u001b[49m\u001b[43m \u001b[49m\u001b[43mquaternion\u001b[49m\u001b[43m,\u001b[49m\u001b[43m \u001b[49m\u001b[43mignore_collisions\u001b[49m\u001b[43m,\u001b[49m\u001b[43m \u001b[49m\u001b[43mtrials\u001b[49m\u001b[43m,\u001b[49m\u001b[43m \u001b[49m\u001b[43mmax_configs\u001b[49m\u001b[43m,\u001b[49m\n\u001b[1;32m    455\u001b[0m \u001b[43m    \u001b[49m\u001b[43mdistance_threshold\u001b[49m\u001b[43m,\u001b[49m\u001b[43m \u001b[49m\u001b[43mmax_time_ms\u001b[49m\u001b[43m,\u001b[49m\u001b[43m \u001b[49m\u001b[43mtrials_per_goal\u001b[49m\u001b[43m,\u001b[49m\u001b[43m \u001b[49m\u001b[43malgorithm\u001b[49m\u001b[43m,\u001b[49m\n\u001b[1;32m    456\u001b[0m \u001b[43m    \u001b[49m\u001b[43mrelative_to\u001b[49m\u001b[43m)\u001b[49m\n\u001b[1;32m    457\u001b[0m \u001b[38;5;28;01mreturn\u001b[39;00m p\n",
      "File \u001b[0;32m~/anaconda3/envs/VLA-RL/lib/python3.11/site-packages/pyrep/robots/arms/arm.py:392\u001b[0m, in \u001b[0;36mArm.get_nonlinear_path\u001b[0;34m(self, position, euler, quaternion, ignore_collisions, trials, max_configs, distance_threshold, max_time_ms, trials_per_goal, algorithm, relative_to)\u001b[0m\n\u001b[1;32m    391\u001b[0m \u001b[38;5;28;01mexcept\u001b[39;00m ConfigurationError \u001b[38;5;28;01mas\u001b[39;00m e:\n\u001b[0;32m--> 392\u001b[0m     \u001b[38;5;28;01mraise\u001b[39;00m ConfigurationPathError(\u001b[38;5;124m'\u001b[39m\u001b[38;5;124mCould not create path.\u001b[39m\u001b[38;5;124m'\u001b[39m) \u001b[38;5;28;01mfrom\u001b[39;00m \u001b[38;5;21;01me\u001b[39;00m\n\u001b[1;32m    394\u001b[0m _, ret_floats, _, _ \u001b[38;5;241m=\u001b[39m utils\u001b[38;5;241m.\u001b[39mscript_call(\n\u001b[1;32m    395\u001b[0m     \u001b[38;5;124m'\u001b[39m\u001b[38;5;124mgetNonlinearPath@PyRep\u001b[39m\u001b[38;5;124m'\u001b[39m, PYREP_SCRIPT_TYPE,\n\u001b[1;32m    396\u001b[0m     ints\u001b[38;5;241m=\u001b[39m[\u001b[38;5;28mself\u001b[39m\u001b[38;5;241m.\u001b[39m_collision_collection, \u001b[38;5;28mint\u001b[39m(ignore_collisions),\n\u001b[1;32m    397\u001b[0m           trials_per_goal] \u001b[38;5;241m+\u001b[39m handles,\n\u001b[1;32m    398\u001b[0m     floats\u001b[38;5;241m=\u001b[39mconfigs\u001b[38;5;241m.\u001b[39mflatten()\u001b[38;5;241m.\u001b[39mtolist(),\n\u001b[1;32m    399\u001b[0m     strings\u001b[38;5;241m=\u001b[39m[algorithm\u001b[38;5;241m.\u001b[39mvalue])\n",
      "\u001b[0;31mConfigurationPathError\u001b[0m: Could not create path.",
      "\nThe above exception was the direct cause of the following exception:\n",
      "\u001b[0;31mInvalidActionError\u001b[0m                        Traceback (most recent call last)",
      "Cell \u001b[0;32mIn[58], line 2\u001b[0m\n\u001b[1;32m      1\u001b[0m \u001b[38;5;66;03m# task._task.distractors[0].get_pose()\u001b[39;00m\n\u001b[0;32m----> 2\u001b[0m \u001b[43mtask\u001b[49m\u001b[38;5;241;43m.\u001b[39;49m\u001b[43mstep\u001b[49m\u001b[43m(\u001b[49m\u001b[43mnp\u001b[49m\u001b[38;5;241;43m.\u001b[39;49m\u001b[43mconcatenate\u001b[49m\u001b[43m(\u001b[49m\u001b[43m[\u001b[49m\u001b[43mtask\u001b[49m\u001b[38;5;241;43m.\u001b[39;49m\u001b[43m_task\u001b[49m\u001b[38;5;241;43m.\u001b[39;49m\u001b[43mdistractors\u001b[49m\u001b[43m[\u001b[49m\u001b[38;5;241;43m0\u001b[39;49m\u001b[43m]\u001b[49m\u001b[38;5;241;43m.\u001b[39;49m\u001b[43mget_pose\u001b[49m\u001b[43m(\u001b[49m\u001b[43m)\u001b[49m\u001b[43m,\u001b[49m\u001b[43m[\u001b[49m\u001b[38;5;241;43m0\u001b[39;49m\u001b[43m]\u001b[49m\u001b[43m]\u001b[49m\u001b[43m)\u001b[49m\u001b[43m)\u001b[49m\n",
      "File \u001b[0;32m~/VLA-RL/RLBench/rlbench/task_environment.py:100\u001b[0m, in \u001b[0;36mTaskEnvironment.step\u001b[0;34m(self, action)\u001b[0m\n\u001b[1;32m     97\u001b[0m \u001b[38;5;28;01mif\u001b[39;00m \u001b[38;5;129;01mnot\u001b[39;00m \u001b[38;5;28mself\u001b[39m\u001b[38;5;241m.\u001b[39m_reset_called:\n\u001b[1;32m     98\u001b[0m     \u001b[38;5;28;01mraise\u001b[39;00m \u001b[38;5;167;01mRuntimeError\u001b[39;00m(\n\u001b[1;32m     99\u001b[0m         \u001b[38;5;124m\"\u001b[39m\u001b[38;5;124mCall \u001b[39m\u001b[38;5;124m'\u001b[39m\u001b[38;5;124mreset\u001b[39m\u001b[38;5;124m'\u001b[39m\u001b[38;5;124m before calling \u001b[39m\u001b[38;5;124m'\u001b[39m\u001b[38;5;124mstep\u001b[39m\u001b[38;5;124m'\u001b[39m\u001b[38;5;124m on a task.\u001b[39m\u001b[38;5;124m\"\u001b[39m)\n\u001b[0;32m--> 100\u001b[0m \u001b[38;5;28;43mself\u001b[39;49m\u001b[38;5;241;43m.\u001b[39;49m\u001b[43m_action_mode\u001b[49m\u001b[38;5;241;43m.\u001b[39;49m\u001b[43maction\u001b[49m\u001b[43m(\u001b[49m\u001b[38;5;28;43mself\u001b[39;49m\u001b[38;5;241;43m.\u001b[39;49m\u001b[43m_scene\u001b[49m\u001b[43m,\u001b[49m\u001b[43m \u001b[49m\u001b[43maction\u001b[49m\u001b[43m)\u001b[49m\n\u001b[1;32m    101\u001b[0m success, terminate \u001b[38;5;241m=\u001b[39m \u001b[38;5;28mself\u001b[39m\u001b[38;5;241m.\u001b[39m_task\u001b[38;5;241m.\u001b[39msuccess()\n\u001b[1;32m    102\u001b[0m reward \u001b[38;5;241m=\u001b[39m \u001b[38;5;28mfloat\u001b[39m(success)\n",
      "File \u001b[0;32m~/VLA-RL/RLBench/rlbench/action_modes/action_mode.py:41\u001b[0m, in \u001b[0;36mMoveArmThenGripper.action\u001b[0;34m(self, scene, action)\u001b[0m\n\u001b[1;32m     39\u001b[0m arm_action \u001b[38;5;241m=\u001b[39m np\u001b[38;5;241m.\u001b[39marray(action[:arm_act_size])\n\u001b[1;32m     40\u001b[0m ee_action \u001b[38;5;241m=\u001b[39m np\u001b[38;5;241m.\u001b[39marray(action[arm_act_size:])\n\u001b[0;32m---> 41\u001b[0m \u001b[38;5;28;43mself\u001b[39;49m\u001b[38;5;241;43m.\u001b[39;49m\u001b[43marm_action_mode\u001b[49m\u001b[38;5;241;43m.\u001b[39;49m\u001b[43maction\u001b[49m\u001b[43m(\u001b[49m\u001b[43mscene\u001b[49m\u001b[43m,\u001b[49m\u001b[43m \u001b[49m\u001b[43marm_action\u001b[49m\u001b[43m)\u001b[49m\n\u001b[1;32m     42\u001b[0m \u001b[38;5;28mself\u001b[39m\u001b[38;5;241m.\u001b[39mgripper_action_mode\u001b[38;5;241m.\u001b[39maction(scene, ee_action)\n",
      "File \u001b[0;32m~/VLA-RL/RLBench/rlbench/action_modes/arm_action_modes.py:270\u001b[0m, in \u001b[0;36mEndEffectorPoseViaPlanning.action\u001b[0;34m(self, scene, action)\u001b[0m\n\u001b[1;32m    268\u001b[0m \u001b[38;5;28;01mexcept\u001b[39;00m ConfigurationPathError \u001b[38;5;28;01mas\u001b[39;00m e:\n\u001b[1;32m    269\u001b[0m     [s\u001b[38;5;241m.\u001b[39mset_collidable(\u001b[38;5;28;01mTrue\u001b[39;00m) \u001b[38;5;28;01mfor\u001b[39;00m s \u001b[38;5;129;01min\u001b[39;00m colliding_shapes]\n\u001b[0;32m--> 270\u001b[0m     \u001b[38;5;28;01mraise\u001b[39;00m InvalidActionError(\n\u001b[1;32m    271\u001b[0m         \u001b[38;5;124m'\u001b[39m\u001b[38;5;124mA path could not be found. Most likely due to the target \u001b[39m\u001b[38;5;124m'\u001b[39m\n\u001b[1;32m    272\u001b[0m         \u001b[38;5;124m'\u001b[39m\u001b[38;5;124mbeing inaccessible or a collison was detected.\u001b[39m\u001b[38;5;124m'\u001b[39m) \u001b[38;5;28;01mfrom\u001b[39;00m \u001b[38;5;21;01me\u001b[39;00m\n\u001b[1;32m    273\u001b[0m done \u001b[38;5;241m=\u001b[39m \u001b[38;5;28;01mFalse\u001b[39;00m\n\u001b[1;32m    274\u001b[0m \u001b[38;5;28;01mwhile\u001b[39;00m \u001b[38;5;129;01mnot\u001b[39;00m done:\n",
      "\u001b[0;31mInvalidActionError\u001b[0m: A path could not be found. Most likely due to the target being inaccessible or a collison was detected."
     ]
    }
   ],
   "source": [
    "# task._task.distractors[0].get_pose()\n",
    "task.step(np.concatenate([task._task.distractors[0].get_pose(),[0]]))"
   ]
  },
  {
   "cell_type": "code",
   "execution_count": null,
   "metadata": {},
   "outputs": [
    {
     "name": "stdout",
     "output_type": "stream",
     "text": [
      "Reset Episode\n",
      "['pick up the red block and lift it up to the target', 'grasp the red block to the target', 'lift the red block up to the target']\n"
     ]
    },
    {
     "ename": "AttributeError",
     "evalue": "'PickAndLift' object has no attribute 'item_name'",
     "output_type": "error",
     "traceback": [
      "\u001b[0;31m---------------------------------------------------------------------------\u001b[0m",
      "\u001b[0;31mAttributeError\u001b[0m                            Traceback (most recent call last)",
      "Cell \u001b[0;32mIn[5], line 12\u001b[0m\n\u001b[1;32m     10\u001b[0m descriptions, obs \u001b[38;5;241m=\u001b[39m task\u001b[38;5;241m.\u001b[39mreset()\n\u001b[1;32m     11\u001b[0m \u001b[38;5;28mprint\u001b[39m(descriptions)\n\u001b[0;32m---> 12\u001b[0m item_name \u001b[38;5;241m=\u001b[39m \u001b[43mtask\u001b[49m\u001b[38;5;241;43m.\u001b[39;49m\u001b[43m_task\u001b[49m\u001b[38;5;241;43m.\u001b[39;49m\u001b[43mitem_name\u001b[49m\n\u001b[1;32m     13\u001b[0m item_coord \u001b[38;5;241m=\u001b[39m task\u001b[38;5;241m.\u001b[39m_task\u001b[38;5;241m.\u001b[39mitem\u001b[38;5;241m.\u001b[39mget_position()\n\u001b[1;32m     14\u001b[0m item_orientation \u001b[38;5;241m=\u001b[39m task\u001b[38;5;241m.\u001b[39m_task\u001b[38;5;241m.\u001b[39mitem\u001b[38;5;241m.\u001b[39mget_orientation()\n",
      "\u001b[0;31mAttributeError\u001b[0m: 'PickAndLift' object has no attribute 'item_name'"
     ]
    }
   ],
   "source": [
    "task = env.get_task(PickAndLift)\n",
    "\n",
    "agent = Agent(env.action_shape)\n",
    "training_steps = 120\n",
    "episode_length = 40\n",
    "obs = None\n",
    "for i in range(training_steps):\n",
    "    # if i % episode_length == 0:\n",
    "    print(\"Reset Episode\")\n",
    "    descriptions, obs = task.reset()\n",
    "    print(descriptions)\n",
    "    item_name = task._task.item_name\n",
    "    item_coord = task._task.item.get_position()\n",
    "    item_orientation = task._task.item.get_orientation()\n",
    "    print(item_name)\n",
    "    print(item_coord)\n",
    "    print(item_orientation)\n",
    "    action = agent.act(obs)\n",
    "    obs, reward, terminate = task.step(action)\n",
    "    print(reward)\n",
    "    break\n"
   ]
  },
  {
   "cell_type": "code",
   "execution_count": null,
   "metadata": {},
   "outputs": [
    {
     "data": {
      "text/plain": [
       "array([ 0.13631016, -0.06427181,  1.20000005])"
      ]
     },
     "execution_count": 45,
     "metadata": {},
     "output_type": "execute_result"
    }
   ],
   "source": [
    "task._task.get_waypoints()[0].get_waypoint_object().get_position()"
   ]
  },
  {
   "cell_type": "code",
   "execution_count": null,
   "metadata": {},
   "outputs": [
    {
     "name": "stdout",
     "output_type": "stream",
     "text": [
      "Done\n",
      "[CoppeliaSim:loadinfo]   CoppeliaSim ended.\n"
     ]
    }
   ],
   "source": [
    "\n",
    "print(\"Done\")\n",
    "env.shutdown()"
   ]
  }
 ],
 "metadata": {
  "kernelspec": {
   "display_name": "VLA-RL",
   "language": "python",
   "name": "python3"
  },
  "language_info": {
   "codemirror_mode": {
    "name": "ipython",
    "version": 3
   },
   "file_extension": ".py",
   "mimetype": "text/x-python",
   "name": "python",
   "nbconvert_exporter": "python",
   "pygments_lexer": "ipython3",
   "version": "3.11.0"
  }
 },
 "nbformat": 4,
 "nbformat_minor": 2
}
