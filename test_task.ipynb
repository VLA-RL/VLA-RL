{
 "cells": [
  {
   "cell_type": "code",
   "execution_count": 1,
   "metadata": {},
   "outputs": [],
   "source": [
    "import numpy as np\n",
    "from rlbench.action_modes.action_mode import MoveArmThenGripper\n",
    "from rlbench.action_modes.arm_action_modes import ArmActionMode, JointVelocity, JointPosition, EndEffectorPoseViaPlanning, EndEffectorPoseViaIK\n",
    "\n",
    "\n",
    "from rlbench.action_modes.gripper_action_modes import Discrete\n",
    "from rlbench.environment import Environment\n",
    "from rlbench.observation_config import ObservationConfig, CameraConfig\n",
    "# from rlbench.tasks.pick_described_object import PickDescribedObject\n",
    "from rlbench.tasks import PutGroceriesInCupboard, PickAndLift, StackBlocks, PlaceHangerOnRack, PickDescribedObject, TakeLidOffSaucepan, SetTheTable\n",
    "from scipy.spatial.transform import Rotation as R\n",
    "from matplotlib import pyplot as plt\n",
    "from rlbench.sim2real.domain_randomization import RandomizationConfig\n",
    "\n",
    "\n",
    "class Agent(object):\n",
    "    def __init__(self, action_shape):\n",
    "        self.action_shape = action_shape\n",
    "\n",
    "    def act(self, obs):\n",
    "        xyz = np.array([2.78478146e-01, -8.15162994e-03,  1.47194254e+00])\n",
    "        rot = np.array([-3.14, 0.24243259,  3.14])\n",
    "        #rot to quat\n",
    "        quat = R.from_euler('xyz', rot).as_quat()\n",
    "        gripper = [1.0]\n",
    "        return np.concatenate([xyz,quat, gripper], axis=-1)\n"
   ]
  },
  {
   "cell_type": "code",
   "execution_count": 2,
   "metadata": {},
   "outputs": [],
   "source": [
    "camera = CameraConfig(image_size=(224, 224), depth=False, point_cloud=False, mask=False)\n",
    "obs_config = ObservationConfig(left_shoulder_camera=camera, right_shoulder_camera=camera, front_camera=camera, overhead_camera=camera)\n",
    "\n",
    "env = Environment(\n",
    "    action_mode=MoveArmThenGripper(\n",
    "        arm_action_mode=EndEffectorPoseViaPlanning(absolute_mode=True, collision_checking=True), gripper_action_mode=Discrete()),\n",
    "    obs_config=obs_config,\n",
    "    robot_setup='panda',\n",
    "    # randomize_every=1,\n",
    "    # visual_randomization_config=RandomizationConfig(),\n",
    "    # dynamics_randomization_config=RandomizationConfig(),\n",
    "    headless=False)\n",
    "env.launch()\n",
    "\n"
   ]
  },
  {
   "cell_type": "code",
   "execution_count": 3,
   "metadata": {},
   "outputs": [],
   "source": [
    "target_item_poses = []\n",
    "waypoints = []\n",
    "gripper_poses = []\n",
    "front_rgbs = []\n",
    "def callable_fun(obs, task, variation_num):\n",
    "    # target item pose\n",
    "    target_item_pose = task._task.get_graspable_objects()[variation_num].get_pose()\n",
    "    target_item_pose = np.concatenate([target_item_pose[:3], R.from_quat(target_item_pose[3:]).as_euler('xyz')])\n",
    "    target_item_poses.append(target_item_pose)\n",
    "\n",
    "    #waypoints\n",
    "    current_pose = np.array(obs.gripper_pose)\n",
    "    current_pose = np.concatenate([current_pose[:3], R.from_quat(current_pose[3:]).as_euler('xyz')])\n",
    "    gripper_poses.append(current_pose)\n",
    "    wps = [wp._waypoint.get_position() for wp in task._task._waypoints]\n",
    "    \n",
    "    if abs(current_pose[:3] - wps[0]).mean() < 1e-2:\n",
    "        waypoints.append(0)\n",
    "    elif abs(current_pose[:3] - wps[1]).mean() < 1e-2:\n",
    "        waypoints.append(1)\n",
    "    elif abs(current_pose[:3] - wps[2]).mean() < 1e-2:\n",
    "        waypoints.append(2)\n",
    "    else:\n",
    "        waypoints.append(-1)\n",
    "\n",
    "    #front rgb\n",
    "    front_rgbs.append(obs.front_rgb)\n",
    "    \n",
    "\n",
    "variation_num = 1\n",
    "task = env.get_task(PickDescribedObject)\n",
    "task.set_variation(variation_num)\n",
    "\n",
    "\n",
    "# demos = task.get_demos(1, live_demos=True, callable_each_step=lambda x: callable_fun(x,task=task, variation_num=variation_num)) \n",
    "# basket_position = task._task.dropin_box.get_position()\n",
    "# demos = np.array(demos).flatten()\n",
    "# descriptions, obs = task.reset() "
   ]
  },
  {
   "cell_type": "code",
   "execution_count": 11,
   "metadata": {},
   "outputs": [],
   "source": [
    "lower_bound = np.array([task._scene._workspace_minx, task._scene._workspace_miny, task._scene._workspace_minz])\n",
    "upper_bound = np.array([task._scene._workspace_maxx, task._scene._workspace_maxy, task._scene._workspace_maxz])"
   ]
  },
  {
   "cell_type": "code",
   "execution_count": 12,
   "metadata": {},
   "outputs": [
    {
     "data": {
      "text/plain": [
       "array([-0.27499999, -0.65500004,  0.75199986])"
      ]
     },
     "execution_count": 12,
     "metadata": {},
     "output_type": "execute_result"
    }
   ],
   "source": [
    "lower_bound"
   ]
  },
  {
   "cell_type": "code",
   "execution_count": 13,
   "metadata": {},
   "outputs": [
    {
     "data": {
      "text/plain": [
       "array([0.77499999, 0.65500004, 1.75199986])"
      ]
     },
     "execution_count": 13,
     "metadata": {},
     "output_type": "execute_result"
    }
   ],
   "source": [
    "upper_bound"
   ]
  },
  {
   "cell_type": "code",
   "execution_count": 5,
   "metadata": {},
   "outputs": [
    {
     "data": {
      "text/plain": [
       "(['put the soup in the basket',\n",
       "  'pick up the soup and place in the basket',\n",
       "  'I want to put away the soup'],\n",
       " <rlbench.backend.observation.Observation at 0x77888e2ec550>)"
      ]
     },
     "execution_count": 5,
     "metadata": {},
     "output_type": "execute_result"
    }
   ],
   "source": [
    "task.reset()\n"
   ]
  },
  {
   "cell_type": "code",
   "execution_count": 6,
   "metadata": {},
   "outputs": [
    {
     "data": {
      "text/plain": [
       "array([-0.09317659])"
      ]
     },
     "execution_count": 6,
     "metadata": {},
     "output_type": "execute_result"
    }
   ],
   "source": [
    "np.random.uniform(-3.14, 3.14, 1)"
   ]
  },
  {
   "cell_type": "code",
   "execution_count": 7,
   "metadata": {},
   "outputs": [
    {
     "data": {
      "text/plain": [
       "array([ 0.        ,  0.        , -2.47777621])"
      ]
     },
     "execution_count": 7,
     "metadata": {},
     "output_type": "execute_result"
    }
   ],
   "source": [
    "np.concatenate([[0,0],np.random.uniform(-3.14, 3.14, 1)])"
   ]
  },
  {
   "cell_type": "code",
   "execution_count": 9,
   "metadata": {},
   "outputs": [
    {
     "name": "stdout",
     "output_type": "stream",
     "text": [
      "[[-1.91228473  1.24422979  2.64241219 -2.86185598 -2.24492693  1.0006876\n",
      "  -0.9034161 ]]\n",
      "Error in task pick_described_object. Demo was completed, but was not successful.\n",
      "Could not find a valid joint configuration for desired end effector pose.\n",
      "[[ 0.37096265  0.69926065  0.8678354  -1.48930252  0.01049488  1.96434546\n",
      "   2.09725189]]\n",
      "Could not find a valid joint configuration for desired end effector pose.\n",
      "Could not find a valid joint configuration for desired end effector pose.\n"
     ]
    },
    {
     "ename": "KeyboardInterrupt",
     "evalue": "",
     "output_type": "error",
     "traceback": [
      "\u001b[0;31m---------------------------------------------------------------------------\u001b[0m",
      "\u001b[0;31mKeyboardInterrupt\u001b[0m                         Traceback (most recent call last)",
      "Cell \u001b[0;32mIn[9], line 7\u001b[0m\n\u001b[1;32m      5\u001b[0m pos \u001b[38;5;241m=\u001b[39m np\u001b[38;5;241m.\u001b[39mrandom\u001b[38;5;241m.\u001b[39muniform(lower_bound, upper_bound)\n\u001b[1;32m      6\u001b[0m rot \u001b[38;5;241m=\u001b[39m np\u001b[38;5;241m.\u001b[39mrandom\u001b[38;5;241m.\u001b[39muniform(\u001b[38;5;241m-\u001b[39m\u001b[38;5;241m3.14\u001b[39m, \u001b[38;5;241m3.14\u001b[39m, \u001b[38;5;241m3\u001b[39m)\n\u001b[0;32m----> 7\u001b[0m joint_position \u001b[38;5;241m=\u001b[39m \u001b[43mtask\u001b[49m\u001b[38;5;241;43m.\u001b[39;49m\u001b[43m_scene\u001b[49m\u001b[38;5;241;43m.\u001b[39;49m\u001b[43mrobot\u001b[49m\u001b[38;5;241;43m.\u001b[39;49m\u001b[43marm\u001b[49m\u001b[38;5;241;43m.\u001b[39;49m\u001b[43msolve_ik_via_sampling\u001b[49m\u001b[43m(\u001b[49m\u001b[43mposition\u001b[49m\u001b[38;5;241;43m=\u001b[39;49m\u001b[43mpos\u001b[49m\u001b[43m,\u001b[49m\u001b[43m \u001b[49m\u001b[43meuler\u001b[49m\u001b[38;5;241;43m=\u001b[39;49m\u001b[43mrot\u001b[49m\u001b[43m)\u001b[49m\n\u001b[1;32m      8\u001b[0m \u001b[38;5;28mprint\u001b[39m(joint_position)\n\u001b[1;32m      9\u001b[0m task\u001b[38;5;241m.\u001b[39m_scene\u001b[38;5;241m.\u001b[39mrobot\u001b[38;5;241m.\u001b[39marm\u001b[38;5;241m.\u001b[39mset_joint_positions(joint_position[\u001b[38;5;241m0\u001b[39m], disable_dynamics\u001b[38;5;241m=\u001b[39m\u001b[38;5;28;01mTrue\u001b[39;00m)\n",
      "File \u001b[0;32m~/anaconda3/envs/VLA-RL/lib/python3.11/site-packages/pyrep/robots/arms/arm.py:146\u001b[0m, in \u001b[0;36mArm.solve_ik_via_sampling\u001b[0;34m(self, position, euler, quaternion, ignore_collisions, trials, max_configs, distance_threshold, max_time_ms, relative_to)\u001b[0m\n\u001b[1;32m    144\u001b[0m valid_joint_positions \u001b[38;5;241m=\u001b[39m []\n\u001b[1;32m    145\u001b[0m \u001b[38;5;28;01mfor\u001b[39;00m i \u001b[38;5;129;01min\u001b[39;00m \u001b[38;5;28mrange\u001b[39m(trials):\n\u001b[0;32m--> 146\u001b[0m     config \u001b[38;5;241m=\u001b[39m \u001b[43msim\u001b[49m\u001b[38;5;241;43m.\u001b[39;49m\u001b[43msimGetConfigForTipPose\u001b[49m\u001b[43m(\u001b[49m\n\u001b[1;32m    147\u001b[0m \u001b[43m        \u001b[49m\u001b[38;5;28;43mself\u001b[39;49m\u001b[38;5;241;43m.\u001b[39;49m\u001b[43m_ik_group\u001b[49m\u001b[43m,\u001b[49m\u001b[43m \u001b[49m\u001b[43mhandles\u001b[49m\u001b[43m,\u001b[49m\u001b[43m \u001b[49m\u001b[43mdistance_threshold\u001b[49m\u001b[43m,\u001b[49m\u001b[43m \u001b[49m\u001b[38;5;28;43mint\u001b[39;49m\u001b[43m(\u001b[49m\u001b[43mmax_time_ms\u001b[49m\u001b[43m)\u001b[49m\u001b[43m,\u001b[49m\n\u001b[1;32m    148\u001b[0m \u001b[43m        \u001b[49m\u001b[43mmetric\u001b[49m\u001b[43m,\u001b[49m\u001b[43m \u001b[49m\u001b[43mcollision_pairs\u001b[49m\u001b[43m,\u001b[49m\u001b[43m \u001b[49m\u001b[43mjoint_options\u001b[49m\u001b[43m,\u001b[49m\u001b[43m \u001b[49m\u001b[43mlow_limits\u001b[49m\u001b[43m,\u001b[49m\u001b[43m \u001b[49m\u001b[43mmax_limits\u001b[49m\u001b[43m)\u001b[49m\n\u001b[1;32m    149\u001b[0m     \u001b[38;5;28;01mif\u001b[39;00m \u001b[38;5;28mlen\u001b[39m(config) \u001b[38;5;241m>\u001b[39m \u001b[38;5;241m0\u001b[39m:\n\u001b[1;32m    150\u001b[0m         valid_joint_positions\u001b[38;5;241m.\u001b[39mappend(config)\n",
      "File \u001b[0;32m~/anaconda3/envs/VLA-RL/lib/python3.11/site-packages/pyrep/backend/sim.py:1458\u001b[0m, in \u001b[0;36msimGetConfigForTipPose\u001b[0;34m(ikGroupHandle, jointHandles, thresholdDist, maxTimeInMs, metric, collisionPairs, jointOptions, lowLimits, ranges)\u001b[0m\n\u001b[1;32m   1456\u001b[0m metric \u001b[38;5;241m=\u001b[39m ffi\u001b[38;5;241m.\u001b[39mNULL \u001b[38;5;28;01mif\u001b[39;00m metric \u001b[38;5;129;01mis\u001b[39;00m \u001b[38;5;28;01mNone\u001b[39;00m \u001b[38;5;28;01melse\u001b[39;00m metric\n\u001b[1;32m   1457\u001b[0m jointOptions \u001b[38;5;241m=\u001b[39m ffi\u001b[38;5;241m.\u001b[39mNULL \u001b[38;5;28;01mif\u001b[39;00m jointOptions \u001b[38;5;129;01mis\u001b[39;00m \u001b[38;5;28;01mNone\u001b[39;00m \u001b[38;5;28;01melse\u001b[39;00m jointOptions\n\u001b[0;32m-> 1458\u001b[0m ret \u001b[38;5;241m=\u001b[39m \u001b[43mlib\u001b[49m\u001b[38;5;241;43m.\u001b[39;49m\u001b[43msimGetConfigForTipPose\u001b[49m\u001b[43m(\u001b[49m\n\u001b[1;32m   1459\u001b[0m \u001b[43m    \u001b[49m\u001b[43mikGroupHandle\u001b[49m\u001b[43m,\u001b[49m\u001b[43m \u001b[49m\u001b[43mjointCnt\u001b[49m\u001b[43m,\u001b[49m\u001b[43m \u001b[49m\u001b[43mjointHandles\u001b[49m\u001b[43m,\u001b[49m\u001b[43m \u001b[49m\u001b[43mthresholdDist\u001b[49m\u001b[43m,\u001b[49m\n\u001b[1;32m   1460\u001b[0m \u001b[43m    \u001b[49m\u001b[43mmaxTimeInMs\u001b[49m\u001b[43m,\u001b[49m\u001b[43m \u001b[49m\u001b[43mretConfigm\u001b[49m\u001b[43m,\u001b[49m\u001b[43m \u001b[49m\u001b[43mmetric\u001b[49m\u001b[43m,\u001b[49m\u001b[43m \u001b[49m\u001b[43mcollisionPairCnt\u001b[49m\u001b[43m,\u001b[49m\u001b[43m \u001b[49m\u001b[43mcollisionPairs\u001b[49m\u001b[43m,\u001b[49m\n\u001b[1;32m   1461\u001b[0m \u001b[43m    \u001b[49m\u001b[43mjointOptions\u001b[49m\u001b[43m,\u001b[49m\u001b[43m \u001b[49m\u001b[43mlowLimits\u001b[49m\u001b[43m,\u001b[49m\u001b[43m \u001b[49m\u001b[43mranges\u001b[49m\u001b[43m,\u001b[49m\u001b[43m \u001b[49m\u001b[43mreserved\u001b[49m\u001b[43m)\u001b[49m\n\u001b[1;32m   1462\u001b[0m _check_return(ret)\n\u001b[1;32m   1463\u001b[0m _check_null_return(retConfigm)\n",
      "\u001b[0;31mKeyboardInterrupt\u001b[0m: "
     ]
    }
   ],
   "source": [
    "while True:\n",
    "    try:\n",
    "        task.reset()\n",
    "        [g.set_mass(10) for g in task._scene.task.get_graspable_objects()]\n",
    "        pos = np.random.uniform(lower_bound, upper_bound)\n",
    "        rot = np.random.uniform(-3.14, 3.14, 3)\n",
    "        joint_position = task._scene.robot.arm.solve_ik_via_sampling(position=pos, euler=rot)\n",
    "        print(joint_position)\n",
    "        task._scene.robot.arm.set_joint_positions(joint_position[0], disable_dynamics=True)\n",
    "        task._scene.get_demo() \n",
    "    except Exception as e:\n",
    "        print(e)\n",
    "        continue"
   ]
  },
  {
   "cell_type": "code",
   "execution_count": null,
   "metadata": {},
   "outputs": [],
   "source": [
    "pos"
   ]
  },
  {
   "cell_type": "code",
   "execution_count": null,
   "metadata": {},
   "outputs": [],
   "source": [
    "t[0]"
   ]
  },
  {
   "cell_type": "code",
   "execution_count": null,
   "metadata": {},
   "outputs": [],
   "source": []
  },
  {
   "cell_type": "code",
   "execution_count": null,
   "metadata": {},
   "outputs": [],
   "source": [
    "task._task.robot.arm.get_joint_positions()"
   ]
  },
  {
   "cell_type": "code",
   "execution_count": null,
   "metadata": {},
   "outputs": [],
   "source": [
    "task._task.robot.arm.set_joint_positions(t, disable_dynamics=False)"
   ]
  },
  {
   "cell_type": "code",
   "execution_count": null,
   "metadata": {},
   "outputs": [],
   "source": [
    "pose = task._scene.robot.arm.get_pose()"
   ]
  },
  {
   "cell_type": "code",
   "execution_count": null,
   "metadata": {},
   "outputs": [],
   "source": [
    "pose = task._scene.robot.gripper.get_pose()"
   ]
  },
  {
   "cell_type": "code",
   "execution_count": null,
   "metadata": {},
   "outputs": [],
   "source": [
    "pose"
   ]
  },
  {
   "cell_type": "code",
   "execution_count": null,
   "metadata": {},
   "outputs": [],
   "source": [
    "task._scene.robot.arm.get_configs_for_tip_pose(position=pose[:3], quaternion= pose[3:])"
   ]
  },
  {
   "cell_type": "code",
   "execution_count": null,
   "metadata": {},
   "outputs": [],
   "source": [
    "task._scene.robot.arm.get_configs_for_tip_pose(position=pos, euler = rot)"
   ]
  },
  {
   "cell_type": "code",
   "execution_count": null,
   "metadata": {},
   "outputs": [],
   "source": [
    "task._scene.robot.gripper.joints"
   ]
  },
  {
   "cell_type": "code",
   "execution_count": null,
   "metadata": {},
   "outputs": [],
   "source": [
    "waypoints.index(2)"
   ]
  },
  {
   "cell_type": "code",
   "execution_count": null,
   "metadata": {},
   "outputs": [],
   "source": [
    "task._task._waypoints[0]._waypoint.get_pose()"
   ]
  },
  {
   "cell_type": "code",
   "execution_count": null,
   "metadata": {},
   "outputs": [],
   "source": [
    "task._task.grasp_points[0].get_pose()"
   ]
  },
  {
   "cell_type": "code",
   "execution_count": null,
   "metadata": {},
   "outputs": [],
   "source": [
    "task._task.get_graspable_objects()[0].get_pose()"
   ]
  },
  {
   "cell_type": "code",
   "execution_count": null,
   "metadata": {},
   "outputs": [],
   "source": [
    "task._task.robot.gripper"
   ]
  },
  {
   "cell_type": "code",
   "execution_count": null,
   "metadata": {},
   "outputs": [],
   "source": [
    "task._task._waypoints[0].get_waypoint_object().get_pose()\n",
    "task.step(np.concatenate([task._task._waypoints[0].get_waypoint_object().get_pose(),[1]]))"
   ]
  },
  {
   "cell_type": "code",
   "execution_count": null,
   "metadata": {},
   "outputs": [],
   "source": [
    "task.step(np.concatenate([task._task.target_block.get_pose(),[0]]))"
   ]
  },
  {
   "cell_type": "code",
   "execution_count": null,
   "metadata": {},
   "outputs": [],
   "source": [
    "task.step(np.concatenate([task._task.target_block.get_pose(),[0]]))"
   ]
  },
  {
   "cell_type": "code",
   "execution_count": null,
   "metadata": {},
   "outputs": [],
   "source": [
    "# task._task.distractors[0].get_pose()\n",
    "task.step(np.concatenate([task._task.distractors[0].get_pose(),[0]]))"
   ]
  },
  {
   "cell_type": "code",
   "execution_count": null,
   "metadata": {},
   "outputs": [],
   "source": [
    "task = env.get_task(PickAndLift)\n",
    "\n",
    "agent = Agent(env.action_shape)\n",
    "training_steps = 120\n",
    "episode_length = 40\n",
    "obs = None\n",
    "for i in range(training_steps):\n",
    "    # if i % episode_length == 0:\n",
    "    print(\"Reset Episode\")\n",
    "    descriptions, obs = task.reset()\n",
    "    print(descriptions)\n",
    "    item_name = task._task.item_name\n",
    "    item_coord = task._task.item.get_position()\n",
    "    item_orientation = task._task.item.get_orientation()\n",
    "    print(item_name)\n",
    "    print(item_coord)\n",
    "    print(item_orientation)\n",
    "    action = agent.act(obs)\n",
    "    obs, reward, terminate = task.step(action)\n",
    "    print(reward)\n",
    "    break\n"
   ]
  },
  {
   "cell_type": "code",
   "execution_count": null,
   "metadata": {},
   "outputs": [],
   "source": [
    "task._task.get_waypoints()[0].get_waypoint_object().get_position()"
   ]
  },
  {
   "cell_type": "code",
   "execution_count": 10,
   "metadata": {},
   "outputs": [
    {
     "name": "stdout",
     "output_type": "stream",
     "text": [
      "Done\n",
      "[CoppeliaSim:loadinfo]   done.\n"
     ]
    }
   ],
   "source": [
    "\n",
    "print(\"Done\")\n",
    "env.shutdown()"
   ]
  }
 ],
 "metadata": {
  "kernelspec": {
   "display_name": "VLA-RL",
   "language": "python",
   "name": "python3"
  },
  "language_info": {
   "codemirror_mode": {
    "name": "ipython",
    "version": 3
   },
   "file_extension": ".py",
   "mimetype": "text/x-python",
   "name": "python",
   "nbconvert_exporter": "python",
   "pygments_lexer": "ipython3",
   "version": "3.11.0"
  }
 },
 "nbformat": 4,
 "nbformat_minor": 2
}
